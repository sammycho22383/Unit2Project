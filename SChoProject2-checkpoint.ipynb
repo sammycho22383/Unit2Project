{
 "cells": [
  {
   "cell_type": "markdown",
   "metadata": {},
   "source": [
    "<img src=\"http://imgur.com/1ZcRyrc.png\" style=\"float: left; margin: 20px; height: 55px\">\n",
    "\n",
    "# Project 2: Analyzing IMDb Data\n",
    "\n",
    "_Author: Kevin Markham (DC)_\n",
    "\n",
    "---"
   ]
  },
  {
   "cell_type": "markdown",
   "metadata": {},
   "source": [
    "For project two, you will complete a serious of exercises exploring movie rating data from IMDb.\n",
    "\n",
    "For these exercises, you will be conducting basic exploratory data analysis on IMDB's movie data, looking to answer such questions as:\n",
    "\n",
    "What is the average rating per genre?\n",
    "How many different actors are in a movie?\n",
    "\n",
    "This process will help you practice your data analysis skills while becoming comfortable with Pandas."
   ]
  },
  {
   "cell_type": "markdown",
   "metadata": {},
   "source": [
    "## Basic level"
   ]
  },
  {
   "cell_type": "code",
   "execution_count": 3,
   "metadata": {},
   "outputs": [],
   "source": [
    "import pandas as pd\n",
    "import matplotlib.pyplot as plt\n",
    "%matplotlib inline"
   ]
  },
  {
   "cell_type": "markdown",
   "metadata": {},
   "source": [
    "#### Read in 'imdb_1000.csv' and store it in a DataFrame named movies."
   ]
  },
  {
   "cell_type": "code",
   "execution_count": 4,
   "metadata": {},
   "outputs": [
    {
     "data": {
      "text/html": [
       "<div>\n",
       "<style scoped>\n",
       "    .dataframe tbody tr th:only-of-type {\n",
       "        vertical-align: middle;\n",
       "    }\n",
       "\n",
       "    .dataframe tbody tr th {\n",
       "        vertical-align: top;\n",
       "    }\n",
       "\n",
       "    .dataframe thead th {\n",
       "        text-align: right;\n",
       "    }\n",
       "</style>\n",
       "<table border=\"1\" class=\"dataframe\">\n",
       "  <thead>\n",
       "    <tr style=\"text-align: right;\">\n",
       "      <th></th>\n",
       "      <th>star_rating</th>\n",
       "      <th>title</th>\n",
       "      <th>content_rating</th>\n",
       "      <th>genre</th>\n",
       "      <th>duration</th>\n",
       "      <th>actors_list</th>\n",
       "    </tr>\n",
       "  </thead>\n",
       "  <tbody>\n",
       "    <tr>\n",
       "      <th>0</th>\n",
       "      <td>9.3</td>\n",
       "      <td>The Shawshank Redemption</td>\n",
       "      <td>R</td>\n",
       "      <td>Crime</td>\n",
       "      <td>142</td>\n",
       "      <td>[u'Tim Robbins', u'Morgan Freeman', u'Bob Gunt...</td>\n",
       "    </tr>\n",
       "    <tr>\n",
       "      <th>1</th>\n",
       "      <td>9.2</td>\n",
       "      <td>The Godfather</td>\n",
       "      <td>R</td>\n",
       "      <td>Crime</td>\n",
       "      <td>175</td>\n",
       "      <td>[u'Marlon Brando', u'Al Pacino', u'James Caan']</td>\n",
       "    </tr>\n",
       "    <tr>\n",
       "      <th>2</th>\n",
       "      <td>9.1</td>\n",
       "      <td>The Godfather: Part II</td>\n",
       "      <td>R</td>\n",
       "      <td>Crime</td>\n",
       "      <td>200</td>\n",
       "      <td>[u'Al Pacino', u'Robert De Niro', u'Robert Duv...</td>\n",
       "    </tr>\n",
       "    <tr>\n",
       "      <th>3</th>\n",
       "      <td>9.0</td>\n",
       "      <td>The Dark Knight</td>\n",
       "      <td>PG-13</td>\n",
       "      <td>Action</td>\n",
       "      <td>152</td>\n",
       "      <td>[u'Christian Bale', u'Heath Ledger', u'Aaron E...</td>\n",
       "    </tr>\n",
       "    <tr>\n",
       "      <th>4</th>\n",
       "      <td>8.9</td>\n",
       "      <td>Pulp Fiction</td>\n",
       "      <td>R</td>\n",
       "      <td>Crime</td>\n",
       "      <td>154</td>\n",
       "      <td>[u'John Travolta', u'Uma Thurman', u'Samuel L....</td>\n",
       "    </tr>\n",
       "  </tbody>\n",
       "</table>\n",
       "</div>"
      ],
      "text/plain": [
       "   star_rating                     title content_rating   genre  duration  \\\n",
       "0          9.3  The Shawshank Redemption              R   Crime       142   \n",
       "1          9.2             The Godfather              R   Crime       175   \n",
       "2          9.1    The Godfather: Part II              R   Crime       200   \n",
       "3          9.0           The Dark Knight          PG-13  Action       152   \n",
       "4          8.9              Pulp Fiction              R   Crime       154   \n",
       "\n",
       "                                         actors_list  \n",
       "0  [u'Tim Robbins', u'Morgan Freeman', u'Bob Gunt...  \n",
       "1    [u'Marlon Brando', u'Al Pacino', u'James Caan']  \n",
       "2  [u'Al Pacino', u'Robert De Niro', u'Robert Duv...  \n",
       "3  [u'Christian Bale', u'Heath Ledger', u'Aaron E...  \n",
       "4  [u'John Travolta', u'Uma Thurman', u'Samuel L....  "
      ]
     },
     "execution_count": 4,
     "metadata": {},
     "output_type": "execute_result"
    }
   ],
   "source": [
    "movies = pd.read_csv('./data/imdb_1000.csv')\n",
    "movies.head()"
   ]
  },
  {
   "cell_type": "markdown",
   "metadata": {},
   "source": [
    "#### Check the number of rows and columns."
   ]
  },
  {
   "cell_type": "code",
   "execution_count": 5,
   "metadata": {},
   "outputs": [
    {
     "data": {
      "text/plain": [
       "(979, 6)"
      ]
     },
     "execution_count": 5,
     "metadata": {},
     "output_type": "execute_result"
    }
   ],
   "source": [
    "# Answer: Use \"file name\".shape\n",
    "movies.shape"
   ]
  },
  {
   "cell_type": "markdown",
   "metadata": {},
   "source": [
    "#### Check the data type of each column."
   ]
  },
  {
   "cell_type": "code",
   "execution_count": 6,
   "metadata": {},
   "outputs": [
    {
     "name": "stdout",
     "output_type": "stream",
     "text": [
      "star_rating       float64\n",
      "title              object\n",
      "content_rating     object\n",
      "genre              object\n",
      "duration            int64\n",
      "actors_list        object\n",
      "dtype: object\n"
     ]
    }
   ],
   "source": [
    "# Answer: Use \"file name\".dtypes\n",
    "print(movies.dtypes)"
   ]
  },
  {
   "cell_type": "markdown",
   "metadata": {},
   "source": [
    "#### Calculate the average movie duration."
   ]
  },
  {
   "cell_type": "code",
   "execution_count": 7,
   "metadata": {},
   "outputs": [
    {
     "data": {
      "text/plain": [
       "120.97957099080695"
      ]
     },
     "execution_count": 7,
     "metadata": {},
     "output_type": "execute_result"
    }
   ],
   "source": [
    "# Answer: use \"file name\"[\"column name\"].mean()\n",
    "movies['duration'].mean()"
   ]
  },
  {
   "cell_type": "markdown",
   "metadata": {},
   "source": [
    "#### Sort the DataFrame by duration to find the shortest and longest movies."
   ]
  },
  {
   "cell_type": "code",
   "execution_count": 15,
   "metadata": {
    "scrolled": false
   },
   "outputs": [
    {
     "data": {
      "text/html": [
       "<div>\n",
       "<style scoped>\n",
       "    .dataframe tbody tr th:only-of-type {\n",
       "        vertical-align: middle;\n",
       "    }\n",
       "\n",
       "    .dataframe tbody tr th {\n",
       "        vertical-align: top;\n",
       "    }\n",
       "\n",
       "    .dataframe thead th {\n",
       "        text-align: right;\n",
       "    }\n",
       "</style>\n",
       "<table border=\"1\" class=\"dataframe\">\n",
       "  <thead>\n",
       "    <tr style=\"text-align: right;\">\n",
       "      <th></th>\n",
       "      <th>star_rating</th>\n",
       "      <th>title</th>\n",
       "      <th>content_rating</th>\n",
       "      <th>genre</th>\n",
       "      <th>duration</th>\n",
       "      <th>actors_list</th>\n",
       "    </tr>\n",
       "  </thead>\n",
       "  <tbody>\n",
       "    <tr>\n",
       "      <th>389</th>\n",
       "      <td>8.0</td>\n",
       "      <td>Freaks</td>\n",
       "      <td>UNRATED</td>\n",
       "      <td>Drama</td>\n",
       "      <td>64</td>\n",
       "      <td>[u'Wallace Ford', u'Leila Hyams', u'Olga Bacla...</td>\n",
       "    </tr>\n",
       "    <tr>\n",
       "      <th>338</th>\n",
       "      <td>8.0</td>\n",
       "      <td>Battleship Potemkin</td>\n",
       "      <td>UNRATED</td>\n",
       "      <td>History</td>\n",
       "      <td>66</td>\n",
       "      <td>[u'Aleksandr Antonov', u'Vladimir Barsky', u'G...</td>\n",
       "    </tr>\n",
       "    <tr>\n",
       "      <th>258</th>\n",
       "      <td>8.1</td>\n",
       "      <td>The Cabinet of Dr. Caligari</td>\n",
       "      <td>UNRATED</td>\n",
       "      <td>Crime</td>\n",
       "      <td>67</td>\n",
       "      <td>[u'Werner Krauss', u'Conrad Veidt', u'Friedric...</td>\n",
       "    </tr>\n",
       "    <tr>\n",
       "      <th>293</th>\n",
       "      <td>8.1</td>\n",
       "      <td>Duck Soup</td>\n",
       "      <td>PASSED</td>\n",
       "      <td>Comedy</td>\n",
       "      <td>68</td>\n",
       "      <td>[u'Groucho Marx', u'Harpo Marx', u'Chico Marx']</td>\n",
       "    </tr>\n",
       "    <tr>\n",
       "      <th>88</th>\n",
       "      <td>8.4</td>\n",
       "      <td>The Kid</td>\n",
       "      <td>NOT RATED</td>\n",
       "      <td>Comedy</td>\n",
       "      <td>68</td>\n",
       "      <td>[u'Charles Chaplin', u'Edna Purviance', u'Jack...</td>\n",
       "    </tr>\n",
       "    <tr>\n",
       "      <th>...</th>\n",
       "      <td>...</td>\n",
       "      <td>...</td>\n",
       "      <td>...</td>\n",
       "      <td>...</td>\n",
       "      <td>...</td>\n",
       "      <td>...</td>\n",
       "    </tr>\n",
       "    <tr>\n",
       "      <th>445</th>\n",
       "      <td>7.9</td>\n",
       "      <td>The Ten Commandments</td>\n",
       "      <td>APPROVED</td>\n",
       "      <td>Adventure</td>\n",
       "      <td>220</td>\n",
       "      <td>[u'Charlton Heston', u'Yul Brynner', u'Anne Ba...</td>\n",
       "    </tr>\n",
       "    <tr>\n",
       "      <th>142</th>\n",
       "      <td>8.3</td>\n",
       "      <td>Lagaan: Once Upon a Time in India</td>\n",
       "      <td>PG</td>\n",
       "      <td>Adventure</td>\n",
       "      <td>224</td>\n",
       "      <td>[u'Aamir Khan', u'Gracy Singh', u'Rachel Shell...</td>\n",
       "    </tr>\n",
       "    <tr>\n",
       "      <th>78</th>\n",
       "      <td>8.4</td>\n",
       "      <td>Once Upon a Time in America</td>\n",
       "      <td>R</td>\n",
       "      <td>Crime</td>\n",
       "      <td>229</td>\n",
       "      <td>[u'Robert De Niro', u'James Woods', u'Elizabet...</td>\n",
       "    </tr>\n",
       "    <tr>\n",
       "      <th>157</th>\n",
       "      <td>8.2</td>\n",
       "      <td>Gone with the Wind</td>\n",
       "      <td>G</td>\n",
       "      <td>Drama</td>\n",
       "      <td>238</td>\n",
       "      <td>[u'Clark Gable', u'Vivien Leigh', u'Thomas Mit...</td>\n",
       "    </tr>\n",
       "    <tr>\n",
       "      <th>476</th>\n",
       "      <td>7.8</td>\n",
       "      <td>Hamlet</td>\n",
       "      <td>PG-13</td>\n",
       "      <td>Drama</td>\n",
       "      <td>242</td>\n",
       "      <td>[u'Kenneth Branagh', u'Julie Christie', u'Dere...</td>\n",
       "    </tr>\n",
       "  </tbody>\n",
       "</table>\n",
       "<p>979 rows × 6 columns</p>\n",
       "</div>"
      ],
      "text/plain": [
       "     star_rating                              title content_rating      genre  \\\n",
       "389          8.0                             Freaks        UNRATED      Drama   \n",
       "338          8.0                Battleship Potemkin        UNRATED    History   \n",
       "258          8.1        The Cabinet of Dr. Caligari        UNRATED      Crime   \n",
       "293          8.1                          Duck Soup         PASSED     Comedy   \n",
       "88           8.4                            The Kid      NOT RATED     Comedy   \n",
       "..           ...                                ...            ...        ...   \n",
       "445          7.9               The Ten Commandments       APPROVED  Adventure   \n",
       "142          8.3  Lagaan: Once Upon a Time in India             PG  Adventure   \n",
       "78           8.4        Once Upon a Time in America              R      Crime   \n",
       "157          8.2                 Gone with the Wind              G      Drama   \n",
       "476          7.8                             Hamlet          PG-13      Drama   \n",
       "\n",
       "     duration                                        actors_list  \n",
       "389        64  [u'Wallace Ford', u'Leila Hyams', u'Olga Bacla...  \n",
       "338        66  [u'Aleksandr Antonov', u'Vladimir Barsky', u'G...  \n",
       "258        67  [u'Werner Krauss', u'Conrad Veidt', u'Friedric...  \n",
       "293        68    [u'Groucho Marx', u'Harpo Marx', u'Chico Marx']  \n",
       "88         68  [u'Charles Chaplin', u'Edna Purviance', u'Jack...  \n",
       "..        ...                                                ...  \n",
       "445       220  [u'Charlton Heston', u'Yul Brynner', u'Anne Ba...  \n",
       "142       224  [u'Aamir Khan', u'Gracy Singh', u'Rachel Shell...  \n",
       "78        229  [u'Robert De Niro', u'James Woods', u'Elizabet...  \n",
       "157       238  [u'Clark Gable', u'Vivien Leigh', u'Thomas Mit...  \n",
       "476       242  [u'Kenneth Branagh', u'Julie Christie', u'Dere...  \n",
       "\n",
       "[979 rows x 6 columns]"
      ]
     },
     "execution_count": 15,
     "metadata": {},
     "output_type": "execute_result"
    }
   ],
   "source": [
    "# Answer: Use \"file name\".sort_values('column name') OR \"file name\".sort_values(['column name 1', 'column name 2'])    \n",
    "movies.sort_values('duration')"
   ]
  },
  {
   "cell_type": "markdown",
   "metadata": {},
   "source": [
    "#### Create a histogram of duration, choosing an \"appropriate\" number of bins."
   ]
  },
  {
   "cell_type": "code",
   "execution_count": 20,
   "metadata": {
    "scrolled": true
   },
   "outputs": [
    {
     "data": {
      "image/png": "[encoded data removed]",
      "text/plain": [
       "<Figure size 432x288 with 1 Axes>"
      ]
     },
     "metadata": {
      "needs_background": "light"
     },
     "output_type": "display_data"
    }
   ],
   "source": [
    "# Answer: Use \"file name\".\"column name\".plot(kind='hist', bins=20(number of columns) , title='Histogram of IMDB Movie Durations'));\n",
    "movies.duration.plot(kind='hist', bins=20, title='Histogram of IMDB Movie Durations');"
   ]
  },
  {
   "cell_type": "markdown",
   "metadata": {},
   "source": [
    "#### Use a box plot to display that same data."
   ]
  },
  {
   "cell_type": "code",
   "execution_count": 21,
   "metadata": {
    "scrolled": true
   },
   "outputs": [
    {
     "data": {
      "image/png": "[encoded data removed]",
      "text/plain": [
       "<Figure size 432x288 with 1 Axes>"
      ]
     },
     "metadata": {
      "needs_background": "light"
     },
     "output_type": "display_data"
    }
   ],
   "source": [
    "# Answer: Use \"file name\".\"column name\".plot(kind='box') \n",
    "movies.duration.plot(kind='box', title='Histogram of IMDB Movie Durations');"
   ]
  },
  {
   "cell_type": "markdown",
   "metadata": {},
   "source": [
    "## Intermediate level"
   ]
  },
  {
   "cell_type": "markdown",
   "metadata": {},
   "source": [
    "#### Count how many movies have each of the content ratings."
   ]
  },
  {
   "cell_type": "code",
   "execution_count": 22,
   "metadata": {},
   "outputs": [
    {
     "data": {
      "text/plain": [
       "R            460\n",
       "PG-13        189\n",
       "PG           123\n",
       "NOT RATED     65\n",
       "APPROVED      47\n",
       "UNRATED       38\n",
       "G             32\n",
       "NC-17          7\n",
       "PASSED         7\n",
       "X              4\n",
       "GP             3\n",
       "TV-MA          1\n",
       "Name: content_rating, dtype: int64"
      ]
     },
     "execution_count": 22,
     "metadata": {},
     "output_type": "execute_result"
    }
   ],
   "source": [
    "# Answer: \"file name\".['column name'].value_counts \n",
    "movies['content_rating'].value_counts()\n"
   ]
  },
  {
   "cell_type": "markdown",
   "metadata": {},
   "source": [
    "#### Use a visualization to display that same data, including a title and x and y labels."
   ]
  },
  {
   "cell_type": "code",
   "execution_count": 26,
   "metadata": {},
   "outputs": [
    {
     "data": {
      "image/png": "[encoded data removed]",
      "text/plain": [
       "<Figure size 576x576 with 1 Axes>"
      ]
     },
     "metadata": {
      "needs_background": "light"
     },
     "output_type": "display_data"
    }
   ],
   "source": [
    "# Answer:\n",
    "movies.content_rating.value_counts().sort_index().plot(kind='bar', figsize=(8,8));     \n",
    "plt.xlabel('Content Rating');\n",
    "plt.ylabel('Number of movies');\n",
    "plt.title('IMDB Movies by Content Rating');"
   ]
  },
  {
   "cell_type": "markdown",
   "metadata": {},
   "source": [
    "#### Convert the following content ratings to \"UNRATED\": NOT RATED, APPROVED, PASSED, GP."
   ]
  },
  {
   "cell_type": "code",
   "execution_count": 30,
   "metadata": {},
   "outputs": [
    {
     "data": {
      "text/plain": [
       "R          460\n",
       "PG-13      189\n",
       "UNRATED    160\n",
       "PG         123\n",
       "G           32\n",
       "NC-17        7\n",
       "X            4\n",
       "TV-MA        1\n",
       "Name: content_rating, dtype: int64"
      ]
     },
     "execution_count": 30,
     "metadata": {},
     "output_type": "execute_result"
    }
   ],
   "source": [
    "# Answer:\n",
    "#df[\"column1\"].replace({\"a\": \"x\", \"b\": \"y\"}, inplace=True)\n",
    "#Verify with \"file name\".['column name that changed valuesd'].value_counts \n",
    "movies['content_rating'].replace({\"NOT RATED\":\"UNRATED\", \"APPROVED\":\"UNRATED\", \"PASSED\":\"UNRATED\", \"GP\":\"UNRATED\"}, inplace=True)\n",
    "movies['content_rating'].value_counts()\n"
   ]
  },
  {
   "cell_type": "markdown",
   "metadata": {},
   "source": [
    "#### Convert the following content ratings to \"NC-17\": X, TV-MA."
   ]
  },
  {
   "cell_type": "code",
   "execution_count": 31,
   "metadata": {},
   "outputs": [
    {
     "data": {
      "text/plain": [
       "R          460\n",
       "PG-13      189\n",
       "UNRATED    160\n",
       "PG         123\n",
       "G           32\n",
       "NC-17       12\n",
       "Name: content_rating, dtype: int64"
      ]
     },
     "execution_count": 31,
     "metadata": {},
     "output_type": "execute_result"
    }
   ],
   "source": [
    "# Answer:\n",
    "#df[\"column1\"].replace({\"a\": \"x\", \"b\": \"y\"}, inplace=True)\n",
    "#Verify with \"file name\".['column name that changed valuesd'].value_counts \n",
    "movies['content_rating'].replace({\"X\":\"NC-17\", \"TV-MA\":\"NC-17\"}, inplace=True)\n",
    "movies['content_rating'].value_counts()\n"
   ]
  },
  {
   "cell_type": "markdown",
   "metadata": {},
   "source": [
    "#### Count the number of missing values in each column."
   ]
  },
  {
   "cell_type": "code",
   "execution_count": 32,
   "metadata": {},
   "outputs": [
    {
     "data": {
      "text/plain": [
       "star_rating       0\n",
       "title             0\n",
       "content_rating    3\n",
       "genre             0\n",
       "duration          0\n",
       "actors_list       0\n",
       "dtype: int64"
      ]
     },
     "execution_count": 32,
     "metadata": {},
     "output_type": "execute_result"
    }
   ],
   "source": [
    "# Answer:\n",
    "#use dataframe.isnull().sum\n",
    "movies.isnull().sum()"
   ]
  },
  {
   "cell_type": "markdown",
   "metadata": {},
   "source": [
    "#### If there are missing values: examine them, then fill them in with \"reasonable\" values."
   ]
  },
  {
   "cell_type": "code",
   "execution_count": 39,
   "metadata": {},
   "outputs": [
    {
     "data": {
      "text/html": [
       "<div>\n",
       "<style scoped>\n",
       "    .dataframe tbody tr th:only-of-type {\n",
       "        vertical-align: middle;\n",
       "    }\n",
       "\n",
       "    .dataframe tbody tr th {\n",
       "        vertical-align: top;\n",
       "    }\n",
       "\n",
       "    .dataframe thead th {\n",
       "        text-align: right;\n",
       "    }\n",
       "</style>\n",
       "<table border=\"1\" class=\"dataframe\">\n",
       "  <thead>\n",
       "    <tr style=\"text-align: right;\">\n",
       "      <th></th>\n",
       "      <th>star_rating</th>\n",
       "      <th>title</th>\n",
       "      <th>content_rating</th>\n",
       "      <th>genre</th>\n",
       "      <th>duration</th>\n",
       "      <th>actors_list</th>\n",
       "    </tr>\n",
       "  </thead>\n",
       "  <tbody>\n",
       "    <tr>\n",
       "      <th>187</th>\n",
       "      <td>8.2</td>\n",
       "      <td>Butch Cassidy and the Sundance Kid</td>\n",
       "      <td>NaN</td>\n",
       "      <td>Biography</td>\n",
       "      <td>110</td>\n",
       "      <td>[u'Paul Newman', u'Robert Redford', u'Katharin...</td>\n",
       "    </tr>\n",
       "    <tr>\n",
       "      <th>649</th>\n",
       "      <td>7.7</td>\n",
       "      <td>Where Eagles Dare</td>\n",
       "      <td>NaN</td>\n",
       "      <td>Action</td>\n",
       "      <td>158</td>\n",
       "      <td>[u'Richard Burton', u'Clint Eastwood', u'Mary ...</td>\n",
       "    </tr>\n",
       "    <tr>\n",
       "      <th>936</th>\n",
       "      <td>7.4</td>\n",
       "      <td>True Grit</td>\n",
       "      <td>NaN</td>\n",
       "      <td>Adventure</td>\n",
       "      <td>128</td>\n",
       "      <td>[u'John Wayne', u'Kim Darby', u'Glen Campbell']</td>\n",
       "    </tr>\n",
       "  </tbody>\n",
       "</table>\n",
       "</div>"
      ],
      "text/plain": [
       "     star_rating                               title content_rating  \\\n",
       "187          8.2  Butch Cassidy and the Sundance Kid            NaN   \n",
       "649          7.7                   Where Eagles Dare            NaN   \n",
       "936          7.4                           True Grit            NaN   \n",
       "\n",
       "         genre  duration                                        actors_list  \n",
       "187  Biography       110  [u'Paul Newman', u'Robert Redford', u'Katharin...  \n",
       "649     Action       158  [u'Richard Burton', u'Clint Eastwood', u'Mary ...  \n",
       "936  Adventure       128    [u'John Wayne', u'Kim Darby', u'Glen Campbell']  "
      ]
     },
     "execution_count": 39,
     "metadata": {},
     "output_type": "execute_result"
    }
   ],
   "source": [
    "# Answer:\n",
    "# Note content_rating is missing 3 values/has 3 null values\n",
    "# creating bool series True for NaN values  \n",
    "# bool_series = pd.isnull(df[\"Gender\"])  \n",
    "# show data only with Content Rating = NaN\n",
    "# Having seen these movies (these movies were released when the MPA rating system started in 1969 and\n",
    "# was voluntary) the content rating of these movies would be PG-13 due to violence and language.\n",
    "bool_series = pd.isnull(movies[\"content_rating\"]) \n",
    "movies[bool_series]\n"
   ]
  },
  {
   "cell_type": "code",
   "execution_count": 169,
   "metadata": {},
   "outputs": [
    {
     "data": {
      "text/plain": [
       "R          460\n",
       "PG-13      189\n",
       "UNRATED    160\n",
       "PG         123\n",
       "G           32\n",
       "NC-17       12\n",
       "Name: content_rating, dtype: int64"
      ]
     },
     "execution_count": 169,
     "metadata": {},
     "output_type": "execute_result"
    }
   ],
   "source": [
    "# Alter NaN in \"content_rating\" to PG-13\n",
    "movies['content_rating'].replace({\"NaN\":\"PG-13\"}, inplace=True)\n",
    "#Verify there are no null values\n",
    "movies['content_rating'].value_counts()\n",
    "# NOTE: The movie content ratings can be altered one by one with df.ix['Row location','Column location']\n",
    "# ,  df.ix['x','C']"
   ]
  },
  {
   "cell_type": "markdown",
   "metadata": {},
   "source": [
    "#### Calculate the average star rating for movies 2 hours or longer, and compare that with the average star rating for movies shorter than 2 hours."
   ]
  },
  {
   "cell_type": "code",
   "execution_count": 49,
   "metadata": {},
   "outputs": [
    {
     "data": {
      "text/plain": [
       "7.948898678414082"
      ]
     },
     "execution_count": 49,
     "metadata": {},
     "output_type": "execute_result"
    }
   ],
   "source": [
    "# Answer:\n",
    "#df[df['Category A'] greater than or equal to 120 minutes]['Category 2'].mean()\n",
    "movies[(movies['duration'] >= 120)]['star_rating'].mean()"
   ]
  },
  {
   "cell_type": "code",
   "execution_count": 51,
   "metadata": {},
   "outputs": [
    {
     "data": {
      "text/plain": [
       "7.8384898710865345"
      ]
     },
     "execution_count": 51,
     "metadata": {},
     "output_type": "execute_result"
    }
   ],
   "source": [
    "#df[df['Category A'] less than or equal to 120 minutes]['Category 2'].mean()\n",
    "movies[(movies['duration'] <= 120)]['star_rating'].mean()"
   ]
  },
  {
   "cell_type": "code",
   "execution_count": null,
   "metadata": {},
   "outputs": [],
   "source": [
    "# There is a difference of 0.11 stars"
   ]
  },
  {
   "cell_type": "markdown",
   "metadata": {},
   "source": [
    "#### Use a visualization to detect whether there is a relationship between duration and star rating."
   ]
  },
  {
   "cell_type": "code",
   "execution_count": 52,
   "metadata": {},
   "outputs": [
    {
     "data": {
      "text/plain": [
       "<seaborn.axisgrid.FacetGrid at 0x1af6f2b0730>"
      ]
     },
     "execution_count": 52,
     "metadata": {},
     "output_type": "execute_result"
    },
    {
     "data": {
      "image/png": "[encoded data removed]",
      "text/plain": [
       "<Figure size 360x360 with 1 Axes>"
      ]
     },
     "metadata": {
      "needs_background": "light"
     },
     "output_type": "display_data"
    }
   ],
   "source": [
    "# Answer:\n",
    "import seaborn as sns\n",
    "sns.lmplot(x='star_rating', y='duration', data=movies)\n",
    "#There is a weak positive correlation between movie duration and star rating"
   ]
  },
  {
   "cell_type": "markdown",
   "metadata": {},
   "source": [
    "#### Calculate the average duration for each genre."
   ]
  },
  {
   "cell_type": "code",
   "execution_count": 53,
   "metadata": {},
   "outputs": [
    {
     "data": {
      "text/plain": [
       "Drama        278\n",
       "Comedy       156\n",
       "Action       136\n",
       "Crime        124\n",
       "Biography     77\n",
       "Adventure     75\n",
       "Animation     62\n",
       "Horror        29\n",
       "Mystery       16\n",
       "Western        9\n",
       "Sci-Fi         5\n",
       "Thriller       5\n",
       "Film-Noir      3\n",
       "Family         2\n",
       "Fantasy        1\n",
       "History        1\n",
       "Name: genre, dtype: int64"
      ]
     },
     "execution_count": 53,
     "metadata": {},
     "output_type": "execute_result"
    }
   ],
   "source": [
    "# Answer:\n",
    "#Find the list of genres\n",
    "movies.genre.value_counts()"
   ]
  },
  {
   "cell_type": "code",
   "execution_count": 56,
   "metadata": {},
   "outputs": [
    {
     "data": {
      "text/plain": [
       "126.53956834532374"
      ]
     },
     "execution_count": 56,
     "metadata": {},
     "output_type": "execute_result"
    }
   ],
   "source": [
    "#Use df[df['genre'] == category name]['duration'].mean()\n",
    "#Drama\n",
    "movies[movies['genre'] == 'Drama']['duration'].mean()\n",
    "#126.5 mins"
   ]
  },
  {
   "cell_type": "code",
   "execution_count": 57,
   "metadata": {},
   "outputs": [
    {
     "data": {
      "text/plain": [
       "107.6025641025641"
      ]
     },
     "execution_count": 57,
     "metadata": {},
     "output_type": "execute_result"
    }
   ],
   "source": [
    "#Comedy\n",
    "movies[movies['genre'] == 'Comedy']['duration'].mean()\n",
    "#107.6 mins"
   ]
  },
  {
   "cell_type": "code",
   "execution_count": 58,
   "metadata": {},
   "outputs": [
    {
     "data": {
      "text/plain": [
       "126.48529411764706"
      ]
     },
     "execution_count": 58,
     "metadata": {},
     "output_type": "execute_result"
    }
   ],
   "source": [
    "#Action\n",
    "movies[movies['genre'] == 'Action']['duration'].mean()\n",
    "#126.5 mins"
   ]
  },
  {
   "cell_type": "code",
   "execution_count": 59,
   "metadata": {},
   "outputs": [
    {
     "data": {
      "text/plain": [
       "122.29838709677419"
      ]
     },
     "execution_count": 59,
     "metadata": {},
     "output_type": "execute_result"
    }
   ],
   "source": [
    "#Crime\n",
    "movies[movies['genre'] == 'Crime']['duration'].mean()\n",
    "#122.3 mins"
   ]
  },
  {
   "cell_type": "code",
   "execution_count": 60,
   "metadata": {},
   "outputs": [
    {
     "data": {
      "text/plain": [
       "131.84415584415584"
      ]
     },
     "execution_count": 60,
     "metadata": {},
     "output_type": "execute_result"
    }
   ],
   "source": [
    "#Biography\n",
    "movies[movies['genre'] == 'Biography']['duration'].mean()\n",
    "#131.8 mins"
   ]
  },
  {
   "cell_type": "code",
   "execution_count": 61,
   "metadata": {},
   "outputs": [
    {
     "data": {
      "text/plain": [
       "134.84"
      ]
     },
     "execution_count": 61,
     "metadata": {},
     "output_type": "execute_result"
    }
   ],
   "source": [
    "#Adventure\n",
    "movies[movies['genre'] == 'Adventure']['duration'].mean()\n",
    "#134.8 mins"
   ]
  },
  {
   "cell_type": "code",
   "execution_count": 62,
   "metadata": {},
   "outputs": [
    {
     "data": {
      "text/plain": [
       "96.59677419354838"
      ]
     },
     "execution_count": 62,
     "metadata": {},
     "output_type": "execute_result"
    }
   ],
   "source": [
    "#Animation\n",
    "movies[movies['genre'] == 'Animation']['duration'].mean()\n",
    "#96.6 mins"
   ]
  },
  {
   "cell_type": "code",
   "execution_count": 63,
   "metadata": {},
   "outputs": [
    {
     "data": {
      "text/plain": [
       "102.51724137931035"
      ]
     },
     "execution_count": 63,
     "metadata": {},
     "output_type": "execute_result"
    }
   ],
   "source": [
    "#Horror\n",
    "movies[movies['genre'] == 'Horror']['duration'].mean()\n",
    "#102.5 mins"
   ]
  },
  {
   "cell_type": "code",
   "execution_count": 64,
   "metadata": {},
   "outputs": [
    {
     "data": {
      "text/plain": [
       "115.625"
      ]
     },
     "execution_count": 64,
     "metadata": {},
     "output_type": "execute_result"
    }
   ],
   "source": [
    "#Mystery\n",
    "movies[movies['genre'] == 'Mystery']['duration'].mean()\n",
    "#115.6 mins"
   ]
  },
  {
   "cell_type": "code",
   "execution_count": 65,
   "metadata": {},
   "outputs": [
    {
     "data": {
      "text/plain": [
       "136.66666666666666"
      ]
     },
     "execution_count": 65,
     "metadata": {},
     "output_type": "execute_result"
    }
   ],
   "source": [
    "#Western\n",
    "movies[movies['genre'] == 'Western']['duration'].mean()\n",
    "#136.7"
   ]
  },
  {
   "cell_type": "code",
   "execution_count": 67,
   "metadata": {},
   "outputs": [
    {
     "data": {
      "text/plain": [
       "109.0"
      ]
     },
     "execution_count": 67,
     "metadata": {},
     "output_type": "execute_result"
    }
   ],
   "source": [
    "#Sci-Fi \n",
    "movies[movies['genre'] == 'Sci-Fi']['duration'].mean()\n",
    "#109 mins"
   ]
  },
  {
   "cell_type": "code",
   "execution_count": 68,
   "metadata": {},
   "outputs": [
    {
     "data": {
      "text/plain": [
       "114.2"
      ]
     },
     "execution_count": 68,
     "metadata": {},
     "output_type": "execute_result"
    }
   ],
   "source": [
    "#Thriller\n",
    "movies[movies['genre'] == 'Thriller']['duration'].mean()\n",
    "#114.2 mins"
   ]
  },
  {
   "cell_type": "code",
   "execution_count": 70,
   "metadata": {},
   "outputs": [
    {
     "data": {
      "text/plain": [
       "97.33333333333333"
      ]
     },
     "execution_count": 70,
     "metadata": {},
     "output_type": "execute_result"
    }
   ],
   "source": [
    "#Film-Noir      \n",
    "movies[movies['genre'] == 'Film-Noir']['duration'].mean()\n",
    "# 97.3 mins"
   ]
  },
  {
   "cell_type": "code",
   "execution_count": 71,
   "metadata": {},
   "outputs": [
    {
     "data": {
      "text/plain": [
       "107.5"
      ]
     },
     "execution_count": 71,
     "metadata": {},
     "output_type": "execute_result"
    }
   ],
   "source": [
    "#Family\n",
    "movies[movies['genre'] == 'Family']['duration'].mean()\n",
    "#107.5 mins"
   ]
  },
  {
   "cell_type": "code",
   "execution_count": 72,
   "metadata": {},
   "outputs": [
    {
     "data": {
      "text/plain": [
       "112.0"
      ]
     },
     "execution_count": 72,
     "metadata": {},
     "output_type": "execute_result"
    }
   ],
   "source": [
    "#Fantasy\n",
    "movies[movies['genre'] == 'Fantasy']['duration'].mean()\n",
    "#112 mins"
   ]
  },
  {
   "cell_type": "code",
   "execution_count": 73,
   "metadata": {},
   "outputs": [
    {
     "data": {
      "text/plain": [
       "66.0"
      ]
     },
     "execution_count": 73,
     "metadata": {},
     "output_type": "execute_result"
    }
   ],
   "source": [
    "#History\n",
    "movies[movies['genre'] == 'History']['duration'].mean()\n",
    "#66 mins"
   ]
  },
  {
   "cell_type": "markdown",
   "metadata": {},
   "source": [
    "## Advanced level"
   ]
  },
  {
   "cell_type": "markdown",
   "metadata": {},
   "source": [
    "#### Visualize the relationship between content rating and duration."
   ]
  },
  {
   "cell_type": "code",
   "execution_count": 121,
   "metadata": {},
   "outputs": [
    {
     "data": {
      "image/png": "[encoded data removed]",
      "text/plain": [
       "<Figure size 432x288 with 1 Axes>"
      ]
     },
     "metadata": {
      "needs_background": "light"
     },
     "output_type": "display_data"
    },
    {
     "data": {
      "text/plain": [
       "<Figure size 1728x1728 with 0 Axes>"
      ]
     },
     "metadata": {},
     "output_type": "display_data"
    }
   ],
   "source": [
    "# Answer:\n",
    "import seaborn as sns\n",
    "sns.boxplot(x='content_rating', y='duration', data=movies)\n",
    "plt.xlabel('Content Rating');\n",
    "plt.ylabel('Movie Length (in mins)');\n",
    "plt.figure(figsize=(24, 24));\n"
   ]
  },
  {
   "cell_type": "code",
   "execution_count": 140,
   "metadata": {},
   "outputs": [
    {
     "data": {
      "image/png": "[encoded data removed]",
      "text/plain": [
       "<Figure size 432x288 with 1 Axes>"
      ]
     },
     "metadata": {
      "needs_background": "light"
     },
     "output_type": "display_data"
    }
   ],
   "source": [
    "#Or use matplotlib\n",
    "import pandas as pd\n",
    "import matplotlib.pyplot as plt\n",
    "%matplotlib inline\n",
    "\n",
    "movies.boxplot(column='duration', by='content_rating')\n",
    "plt.xlabel('Content Rating');\n",
    "plt.ylabel('Movie Length in mins');\n",
    "fig, axes = plt.figsize=(16,8)"
   ]
  },
  {
   "cell_type": "markdown",
   "metadata": {},
   "source": [
    "#### Determine the top rated movie (by star rating) for each genre."
   ]
  },
  {
   "cell_type": "code",
   "execution_count": 143,
   "metadata": {},
   "outputs": [
    {
     "data": {
      "text/plain": [
       "genre\n",
       "Crime        9.3\n",
       "Action       9.0\n",
       "Drama        8.9\n",
       "Western      8.9\n",
       "Adventure    8.9\n",
       "Biography    8.9\n",
       "Comedy       8.6\n",
       "Animation    8.6\n",
       "Mystery      8.6\n",
       "Horror       8.6\n",
       "Film-Noir    8.3\n",
       "Sci-Fi       8.2\n",
       "History      8.0\n",
       "Thriller     8.0\n",
       "Family       7.9\n",
       "Fantasy      7.7\n",
       "Name: star_rating, dtype: float64"
      ]
     },
     "execution_count": 143,
     "metadata": {},
     "output_type": "execute_result"
    }
   ],
   "source": [
    "#Use groupby function to splitting 'genre' into subcategories (i.e. Crime, Comedy). Use sort=False and max to get \n",
    "# the highest values in star ratings that should be matched with subcategories. \n",
    "movies.groupby(['genre'], sort=False)['star_rating'].max()\n"
   ]
  },
  {
   "cell_type": "code",
   "execution_count": null,
   "metadata": {
    "collapsed": true
   },
   "outputs": [],
   "source": []
  },
  {
   "cell_type": "markdown",
   "metadata": {},
   "source": [
    "#### Check if there are multiple movies with the same title, and if so, determine if they are actually duplicates."
   ]
  },
  {
   "cell_type": "code",
   "execution_count": 172,
   "metadata": {},
   "outputs": [
    {
     "data": {
      "text/html": [
       "<div>\n",
       "<style scoped>\n",
       "    .dataframe tbody tr th:only-of-type {\n",
       "        vertical-align: middle;\n",
       "    }\n",
       "\n",
       "    .dataframe tbody tr th {\n",
       "        vertical-align: top;\n",
       "    }\n",
       "\n",
       "    .dataframe thead th {\n",
       "        text-align: right;\n",
       "    }\n",
       "</style>\n",
       "<table border=\"1\" class=\"dataframe\">\n",
       "  <thead>\n",
       "    <tr style=\"text-align: right;\">\n",
       "      <th></th>\n",
       "      <th>star_rating</th>\n",
       "      <th>title</th>\n",
       "      <th>content_rating</th>\n",
       "      <th>genre</th>\n",
       "      <th>duration</th>\n",
       "      <th>actors_list</th>\n",
       "    </tr>\n",
       "  </thead>\n",
       "  <tbody>\n",
       "    <tr>\n",
       "      <th>466</th>\n",
       "      <td>7.9</td>\n",
       "      <td>The Girl with the Dragon Tattoo</td>\n",
       "      <td>R</td>\n",
       "      <td>Crime</td>\n",
       "      <td>158</td>\n",
       "      <td>[u'Daniel Craig', u'Rooney Mara', u'Christophe...</td>\n",
       "    </tr>\n",
       "    <tr>\n",
       "      <th>482</th>\n",
       "      <td>7.8</td>\n",
       "      <td>The Girl with the Dragon Tattoo</td>\n",
       "      <td>R</td>\n",
       "      <td>Crime</td>\n",
       "      <td>152</td>\n",
       "      <td>[u'Michael Nyqvist', u'Noomi Rapace', u'Ewa Fr...</td>\n",
       "    </tr>\n",
       "    <tr>\n",
       "      <th>662</th>\n",
       "      <td>7.7</td>\n",
       "      <td>True Grit</td>\n",
       "      <td>PG-13</td>\n",
       "      <td>Adventure</td>\n",
       "      <td>110</td>\n",
       "      <td>[u'Jeff Bridges', u'Matt Damon', u'Hailee Stei...</td>\n",
       "    </tr>\n",
       "    <tr>\n",
       "      <th>678</th>\n",
       "      <td>7.7</td>\n",
       "      <td>Les Miserables</td>\n",
       "      <td>PG-13</td>\n",
       "      <td>Drama</td>\n",
       "      <td>158</td>\n",
       "      <td>[u'Hugh Jackman', u'Russell Crowe', u'Anne Hat...</td>\n",
       "    </tr>\n",
       "    <tr>\n",
       "      <th>703</th>\n",
       "      <td>7.6</td>\n",
       "      <td>Dracula</td>\n",
       "      <td>UNRATED</td>\n",
       "      <td>Horror</td>\n",
       "      <td>85</td>\n",
       "      <td>[u'Bela Lugosi', u'Helen Chandler', u'David Ma...</td>\n",
       "    </tr>\n",
       "    <tr>\n",
       "      <th>905</th>\n",
       "      <td>7.5</td>\n",
       "      <td>Dracula</td>\n",
       "      <td>R</td>\n",
       "      <td>Horror</td>\n",
       "      <td>128</td>\n",
       "      <td>[u'Gary Oldman', u'Winona Ryder', u'Anthony Ho...</td>\n",
       "    </tr>\n",
       "    <tr>\n",
       "      <th>924</th>\n",
       "      <td>7.5</td>\n",
       "      <td>Les Miserables</td>\n",
       "      <td>PG-13</td>\n",
       "      <td>Crime</td>\n",
       "      <td>134</td>\n",
       "      <td>[u'Liam Neeson', u'Geoffrey Rush', u'Uma Thurm...</td>\n",
       "    </tr>\n",
       "    <tr>\n",
       "      <th>936</th>\n",
       "      <td>7.4</td>\n",
       "      <td>True Grit</td>\n",
       "      <td>NaN</td>\n",
       "      <td>Adventure</td>\n",
       "      <td>128</td>\n",
       "      <td>[u'John Wayne', u'Kim Darby', u'Glen Campbell']</td>\n",
       "    </tr>\n",
       "  </tbody>\n",
       "</table>\n",
       "</div>"
      ],
      "text/plain": [
       "     star_rating                            title content_rating      genre  \\\n",
       "466          7.9  The Girl with the Dragon Tattoo              R      Crime   \n",
       "482          7.8  The Girl with the Dragon Tattoo              R      Crime   \n",
       "662          7.7                        True Grit          PG-13  Adventure   \n",
       "678          7.7                   Les Miserables          PG-13      Drama   \n",
       "703          7.6                          Dracula        UNRATED     Horror   \n",
       "905          7.5                          Dracula              R     Horror   \n",
       "924          7.5                   Les Miserables          PG-13      Crime   \n",
       "936          7.4                        True Grit            NaN  Adventure   \n",
       "\n",
       "     duration                                        actors_list  \n",
       "466       158  [u'Daniel Craig', u'Rooney Mara', u'Christophe...  \n",
       "482       152  [u'Michael Nyqvist', u'Noomi Rapace', u'Ewa Fr...  \n",
       "662       110  [u'Jeff Bridges', u'Matt Damon', u'Hailee Stei...  \n",
       "678       158  [u'Hugh Jackman', u'Russell Crowe', u'Anne Hat...  \n",
       "703        85  [u'Bela Lugosi', u'Helen Chandler', u'David Ma...  \n",
       "905       128  [u'Gary Oldman', u'Winona Ryder', u'Anthony Ho...  \n",
       "924       134  [u'Liam Neeson', u'Geoffrey Rush', u'Uma Thurm...  \n",
       "936       128    [u'John Wayne', u'Kim Darby', u'Glen Campbell']  "
      ]
     },
     "execution_count": 172,
     "metadata": {},
     "output_type": "execute_result"
    }
   ],
   "source": [
    "# Answer:Use the detect and list duplicates function. Note however, the first half of duplicates is\n",
    "# missing and so all duplicate values listed needs \"keep=False\"   \n",
    "movies[movies.duplicated('title', keep=False)]\n",
    "\n",
    "#Can also use Concatenate and groupby and use len(title) \n",
    "#pd.concat(title for _, title in movies.groupby(\"title\") if len(title) > 1)\n",
    "\n",
    "#The duplicates in title are either the original movie or the remake of that movie that made earlier.\n"
   ]
  },
  {
   "cell_type": "markdown",
   "metadata": {
    "collapsed": true
   },
   "source": [
    "#### Calculate the average star rating for each genre, but only include genres with at least 10 movies\n"
   ]
  },
  {
   "cell_type": "markdown",
   "metadata": {},
   "source": [
    "#### Option 1: manually create a list of relevant genres, then filter using that list"
   ]
  },
  {
   "cell_type": "code",
   "execution_count": 191,
   "metadata": {},
   "outputs": [
    {
     "data": {
      "text/plain": [
       "genre\n",
       "Action       7.884559\n",
       "Adventure    7.933333\n",
       "Animation    7.914516\n",
       "Biography    7.862338\n",
       "Comedy       7.822436\n",
       "Crime        7.916935\n",
       "Drama        7.902518\n",
       "Horror       7.806897\n",
       "Mystery      7.975000\n",
       "Name: star_rating, dtype: float64"
      ]
     },
     "execution_count": 191,
     "metadata": {},
     "output_type": "execute_result"
    }
   ],
   "source": [
    "# Answer:\n",
    "#Find the list of genres, put genres with at least 10 movies into major_genres and then groupby\n",
    "# the average \"star rating\"\n",
    "movies.genre.value_counts()\n",
    "major_genres = ['Drama', 'Comedy', 'Action', 'Crime', 'Biography', 'Adventure', 'Animation', 'Horror', 'Mystery']\n",
    "movies[movies.genre.isin(major_genres)].groupby('genre').star_rating.mean()"
   ]
  },
  {
   "cell_type": "markdown",
   "metadata": {},
   "source": [
    "#### Option 2: automatically create a list of relevant genres by saving the value_counts and then filtering"
   ]
  },
  {
   "cell_type": "code",
   "execution_count": 192,
   "metadata": {},
   "outputs": [
    {
     "data": {
      "text/plain": [
       "genre\n",
       "Action       7.884559\n",
       "Adventure    7.933333\n",
       "Animation    7.914516\n",
       "Biography    7.862338\n",
       "Comedy       7.822436\n",
       "Crime        7.916935\n",
       "Drama        7.902518\n",
       "Horror       7.806897\n",
       "Mystery      7.975000\n",
       "Name: star_rating, dtype: float64"
      ]
     },
     "execution_count": 192,
     "metadata": {},
     "output_type": "execute_result"
    }
   ],
   "source": [
    "# Answer: Use major_genres as an index of genre_counts and use groupby and average  \"star_rating\" \n",
    "genre_counts = movies.genre.value_counts()\n",
    "major_genres = genre_counts[genre_counts >= 10].index\n",
    "movies[movies.genre.isin(major_genres)].groupby('genre').star_rating.mean()"
   ]
  },
  {
   "cell_type": "markdown",
   "metadata": {},
   "source": [
    "#### Option 3: calculate the average star rating for all genres, then filter using a boolean Series"
   ]
  },
  {
   "cell_type": "code",
   "execution_count": 193,
   "metadata": {},
   "outputs": [
    {
     "data": {
      "text/plain": [
       "genre\n",
       "Action       7.884559\n",
       "Adventure    7.933333\n",
       "Animation    7.914516\n",
       "Biography    7.862338\n",
       "Comedy       7.822436\n",
       "Crime        7.916935\n",
       "Drama        7.902518\n",
       "Horror       7.806897\n",
       "Mystery      7.975000\n",
       "Name: star_rating, dtype: float64"
      ]
     },
     "execution_count": 193,
     "metadata": {},
     "output_type": "execute_result"
    }
   ],
   "source": [
    "# Answer: Use >=10 to filter out genres with more than 10 movies with their average ratings\n",
    "movies.groupby('genre').star_rating.mean()[movies.genre.value_counts() >= 10]"
   ]
  },
  {
   "cell_type": "markdown",
   "metadata": {},
   "source": [
    "#### Option 4: aggregate by count and mean, then filter using the count"
   ]
  },
  {
   "cell_type": "code",
   "execution_count": 195,
   "metadata": {},
   "outputs": [
    {
     "data": {
      "text/html": [
       "<div>\n",
       "<style scoped>\n",
       "    .dataframe tbody tr th:only-of-type {\n",
       "        vertical-align: middle;\n",
       "    }\n",
       "\n",
       "    .dataframe tbody tr th {\n",
       "        vertical-align: top;\n",
       "    }\n",
       "\n",
       "    .dataframe thead th {\n",
       "        text-align: right;\n",
       "    }\n",
       "</style>\n",
       "<table border=\"1\" class=\"dataframe\">\n",
       "  <thead>\n",
       "    <tr style=\"text-align: right;\">\n",
       "      <th></th>\n",
       "      <th>count</th>\n",
       "      <th>mean</th>\n",
       "    </tr>\n",
       "    <tr>\n",
       "      <th>genre</th>\n",
       "      <th></th>\n",
       "      <th></th>\n",
       "    </tr>\n",
       "  </thead>\n",
       "  <tbody>\n",
       "    <tr>\n",
       "      <th>Action</th>\n",
       "      <td>136</td>\n",
       "      <td>7.884559</td>\n",
       "    </tr>\n",
       "    <tr>\n",
       "      <th>Adventure</th>\n",
       "      <td>75</td>\n",
       "      <td>7.933333</td>\n",
       "    </tr>\n",
       "    <tr>\n",
       "      <th>Animation</th>\n",
       "      <td>62</td>\n",
       "      <td>7.914516</td>\n",
       "    </tr>\n",
       "    <tr>\n",
       "      <th>Biography</th>\n",
       "      <td>77</td>\n",
       "      <td>7.862338</td>\n",
       "    </tr>\n",
       "    <tr>\n",
       "      <th>Comedy</th>\n",
       "      <td>156</td>\n",
       "      <td>7.822436</td>\n",
       "    </tr>\n",
       "    <tr>\n",
       "      <th>Crime</th>\n",
       "      <td>124</td>\n",
       "      <td>7.916935</td>\n",
       "    </tr>\n",
       "    <tr>\n",
       "      <th>Drama</th>\n",
       "      <td>278</td>\n",
       "      <td>7.902518</td>\n",
       "    </tr>\n",
       "    <tr>\n",
       "      <th>Horror</th>\n",
       "      <td>29</td>\n",
       "      <td>7.806897</td>\n",
       "    </tr>\n",
       "    <tr>\n",
       "      <th>Mystery</th>\n",
       "      <td>16</td>\n",
       "      <td>7.975000</td>\n",
       "    </tr>\n",
       "  </tbody>\n",
       "</table>\n",
       "</div>"
      ],
      "text/plain": [
       "           count      mean\n",
       "genre                     \n",
       "Action       136  7.884559\n",
       "Adventure     75  7.933333\n",
       "Animation     62  7.914516\n",
       "Biography     77  7.862338\n",
       "Comedy       156  7.822436\n",
       "Crime        124  7.916935\n",
       "Drama        278  7.902518\n",
       "Horror        29  7.806897\n",
       "Mystery       16  7.975000"
      ]
     },
     "execution_count": 195,
     "metadata": {},
     "output_type": "execute_result"
    }
   ],
   "source": [
    "# Answer:\n",
    "#Create aggregate \"ratings_by_genre\" which aggregates movies by genre and average rating and later is\n",
    "# separated by the \"\">=10\" filter\n",
    "ratings_by_genre = movies.groupby('genre').star_rating.agg(['count', 'mean'])\n",
    "ratings_by_genre[ratings_by_genre['count'] >= 10]"
   ]
  },
  {
   "cell_type": "markdown",
   "metadata": {},
   "source": [
    "## Bonus"
   ]
  },
  {
   "cell_type": "markdown",
   "metadata": {
    "collapsed": true
   },
   "source": [
    "#### Figure out something \"interesting\" using the actors data!"
   ]
  },
  {
   "cell_type": "code",
   "execution_count": 221,
   "metadata": {},
   "outputs": [
    {
     "data": {
      "text/html": [
       "<div>\n",
       "<style scoped>\n",
       "    .dataframe tbody tr th:only-of-type {\n",
       "        vertical-align: middle;\n",
       "    }\n",
       "\n",
       "    .dataframe tbody tr th {\n",
       "        vertical-align: top;\n",
       "    }\n",
       "\n",
       "    .dataframe thead th {\n",
       "        text-align: right;\n",
       "    }\n",
       "</style>\n",
       "<table border=\"1\" class=\"dataframe\">\n",
       "  <thead>\n",
       "    <tr style=\"text-align: right;\">\n",
       "      <th></th>\n",
       "      <th>star_rating</th>\n",
       "      <th>title</th>\n",
       "      <th>content_rating</th>\n",
       "      <th>genre</th>\n",
       "      <th>duration</th>\n",
       "      <th>actors_list</th>\n",
       "    </tr>\n",
       "  </thead>\n",
       "  <tbody>\n",
       "    <tr>\n",
       "      <th>0</th>\n",
       "      <td>9.3</td>\n",
       "      <td>The Shawshank Redemption</td>\n",
       "      <td>R</td>\n",
       "      <td>Crime</td>\n",
       "      <td>142</td>\n",
       "      <td>[u'Tim Robbins', u'Morgan Freeman', u'Bob Gunt...</td>\n",
       "    </tr>\n",
       "    <tr>\n",
       "      <th>1</th>\n",
       "      <td>9.2</td>\n",
       "      <td>The Godfather</td>\n",
       "      <td>R</td>\n",
       "      <td>Crime</td>\n",
       "      <td>175</td>\n",
       "      <td>[u'Marlon Brando', u'Al Pacino', u'James Caan']</td>\n",
       "    </tr>\n",
       "    <tr>\n",
       "      <th>2</th>\n",
       "      <td>9.1</td>\n",
       "      <td>The Godfather: Part II</td>\n",
       "      <td>R</td>\n",
       "      <td>Crime</td>\n",
       "      <td>200</td>\n",
       "      <td>[u'Al Pacino', u'Robert De Niro', u'Robert Duv...</td>\n",
       "    </tr>\n",
       "    <tr>\n",
       "      <th>3</th>\n",
       "      <td>9.0</td>\n",
       "      <td>The Dark Knight</td>\n",
       "      <td>PG-13</td>\n",
       "      <td>Action</td>\n",
       "      <td>152</td>\n",
       "      <td>[u'Christian Bale', u'Heath Ledger', u'Aaron E...</td>\n",
       "    </tr>\n",
       "    <tr>\n",
       "      <th>4</th>\n",
       "      <td>8.9</td>\n",
       "      <td>Pulp Fiction</td>\n",
       "      <td>R</td>\n",
       "      <td>Crime</td>\n",
       "      <td>154</td>\n",
       "      <td>[u'John Travolta', u'Uma Thurman', u'Samuel L....</td>\n",
       "    </tr>\n",
       "  </tbody>\n",
       "</table>\n",
       "</div>"
      ],
      "text/plain": [
       "   star_rating                     title content_rating   genre  duration  \\\n",
       "0          9.3  The Shawshank Redemption              R   Crime       142   \n",
       "1          9.2             The Godfather              R   Crime       175   \n",
       "2          9.1    The Godfather: Part II              R   Crime       200   \n",
       "3          9.0           The Dark Knight          PG-13  Action       152   \n",
       "4          8.9              Pulp Fiction              R   Crime       154   \n",
       "\n",
       "                                         actors_list  \n",
       "0  [u'Tim Robbins', u'Morgan Freeman', u'Bob Gunt...  \n",
       "1    [u'Marlon Brando', u'Al Pacino', u'James Caan']  \n",
       "2  [u'Al Pacino', u'Robert De Niro', u'Robert Duv...  \n",
       "3  [u'Christian Bale', u'Heath Ledger', u'Aaron E...  \n",
       "4  [u'John Travolta', u'Uma Thurman', u'Samuel L....  "
      ]
     },
     "execution_count": 221,
     "metadata": {},
     "output_type": "execute_result"
    }
   ],
   "source": [
    "movies = pd.read_csv('./data/imdb_1000.csv')\n",
    "movies.head()"
   ]
  },
  {
   "cell_type": "code",
   "execution_count": 231,
   "metadata": {},
   "outputs": [
    {
     "data": {
      "text/plain": [
       "0          Tim Robbins', Morgan Freeman', Bob Gunton\n",
       "1             Marlon Brando', Al Pacino', James Caan\n",
       "2         Al Pacino', Robert De Niro', Robert Duvall\n",
       "3      Christian Bale', Heath Ledger', Aaron Eckhart\n",
       "4    John Travolta', Uma Thurman', Samuel L. Jackson\n",
       "Name: actors_list, dtype: object"
      ]
     },
     "execution_count": 231,
     "metadata": {},
     "output_type": "execute_result"
    }
   ],
   "source": [
    "#taking out u' , u' , and '\n",
    "movies.actors_list.replace(['\\[', 'u\\'','\\'\\]'],'', regex=True, inplace=True)\n",
    "movies.actors_list.head()"
   ]
  },
  {
   "cell_type": "code",
   "execution_count": 232,
   "metadata": {},
   "outputs": [
    {
     "data": {
      "text/plain": [
       "array(['Tim Robbins, Morgan Freeman, Bob Gunton',\n",
       "       'Marlon Brando, Al Pacino, James Caan',\n",
       "       'Al Pacino, Robert De Niro, Robert Duvall',\n",
       "       'Christian Bale, Heath Ledger, Aaron Eckhart',\n",
       "       'John Travolta, Uma Thurman, Samuel L. Jackson',\n",
       "       'Henry Fonda, Lee J. Cobb, Martin Balsam',\n",
       "       'Clint Eastwood, Eli Wallach, Lee Van Cleef',\n",
       "       'Elijah Wood, Viggo Mortensen, Ian McKellen',\n",
       "       'Liam Neeson, Ralph Fiennes, Ben Kingsley',\n",
       "       'Brad Pitt, Edward Norton, Helena Bonham Carter',\n",
       "       'Elijah Wood, Ian McKellen, Orlando Bloom',\n",
       "       'Leonardo DiCaprio, Joseph Gordon-Levitt, Ellen Page',\n",
       "       'Mark Hamill, Harrison Ford, Carrie Fisher',\n",
       "       'Tom Hanks, Robin Wright, Gary Sinise',\n",
       "       'Elijah Wood, Ian McKellen, Viggo Mortensen',\n",
       "       'Matthew McConaughey, Anne Hathaway, Jessica Chastain',\n",
       "       'Jack Nicholson, Louise Fletcher, Michael Berryman',\n",
       "       'Toshir\\\\xf4 Mifune, Takashi Shimura, Keiko Tsushima',\n",
       "       'Robert De Niro, Ray Liotta, Joe Pesci',\n",
       "       'Keanu Reeves, Laurence Fishburne, Carrie-Anne Moss',\n",
       "       'Alexandre Rodrigues, Matheus Nachtergaele, Leandro Firmino',\n",
       "       'James Stewart, Donna Reed, Lionel Barrymore',\n",
       "       'Kevin Spacey, Gabriel Byrne, Chazz Palminteri',\n",
       "       'Morgan Freeman, Brad Pitt, Kevin Spacey',\n",
       "       'Roberto Benigni, Nicoletta Braschi, Giorgio Cantarini',\n",
       "       'Henry Fonda, Charles Bronson, Claudia Cardinale',\n",
       "       'Jodie Foster, Anthony Hopkins, Lawrence A. Bonney',\n",
       "       'Jean Reno, Gary Oldman, Natalie Portman',\n",
       "       'Charles Chaplin, Virginia Cherrill, Florence Lee',\n",
       "       'Daveigh Chase, Suzanne Pleshette, Miyu Irino',\n",
       "       'Fran\\\\xe7ois Cluzet, Omar Sy, Anne Le Ny',\n",
       "       'Humphrey Bogart, Ingrid Bergman, Paul Henreid',\n",
       "       'Miles Teller, J.K. Simmons, Melissa Benoist',\n",
       "       'Edward Norton, Edward Furlong, u\"Beverly D\\'Angelo\"]',\n",
       "       'Charles Chaplin, Paulette Goddard, Henry Bergman',\n",
       "       'Tom Hanks, Matt Damon, Tom Sizemore',\n",
       "       'Harrison Ford, Karen Allen, Paul Freeman',\n",
       "       'James Stewart, Grace Kelly, Wendell Corey',\n",
       "       'Anthony Perkins, Janet Leigh, Vera Miles',\n",
       "       'Tom Hanks, Michael Clarke Duncan, David Morse',\n",
       "       'William Holden, Gloria Swanson, Erich von Stroheim',\n",
       "       'Adrien Brody, Thomas Kretschmann, Frank Finlay',\n",
       "       'Christian Bale, Tom Hardy, Anne Hathaway',\n",
       "       'Russell Crowe, Joaquin Phoenix, Connie Nielsen',\n",
       "       'Arnold Schwarzenegger, Linda Hamilton, Edward Furlong',\n",
       "       'Guy Pearce, Carrie-Anne Moss, Joe Pantoliano',\n",
       "       'Darsheel Safary, Aamir Khan, Tanay Chheda',\n",
       "       'Peter Sellers, George C. Scott, Sterling Hayden',\n",
       "       'Leonardo DiCaprio, Matt Damon, Jack Nicholson',\n",
       "       'Philippe Noiret, Enzo Cannavale, Antonella Attili',\n",
       "       'Martin Sheen, Marlon Brando, Robert Duvall',\n",
       "       'Charles Chaplin, Paulette Goddard, Jack Oakie',\n",
       "       'Christian Bale, Hugh Jackman, Scarlett Johansson',\n",
       "       'Michael J. Fox, Christopher Lloyd, Lea Thompson',\n",
       "       'Matthew Broderick, Jeremy Irons, James Earl Jones',\n",
       "       'Ulrich M\\\\xfche, Martina Gedeck, Sebastian Koch',\n",
       "       'Sigourney Weaver, Tom Skerritt, John Hurt',\n",
       "       'Kirk Douglas, Ralph Meeker, Adolphe Menjo]',\n",
       "       'Jamie Foxx, Christoph Waltz, Leonardo DiCaprio',\n",
       "       'Aamir Khan, Madhavan, Mona Singh',\n",
       "       'Tsutomu Tatsumi, Ayano Shiraishi, Akemi Yamaguchi',\n",
       "       'Jack Nicholson, Shelley Duvall, Danny Lloyd',\n",
       "       'Peter Lorre, Ellen Widmann, Inge Landgut',\n",
       "       'Ben Burtt, Elissa Knight, Jeff Garlin',\n",
       "       'Tyrone Power, Marlene Dietrich, Charles Laughton',\n",
       "       'Sunil Dutt, Sanjay Dutt, Arshad Warsi',\n",
       "       'Kevin Spacey, Annette Bening, Thora Birch',\n",
       "       'J\\\\xfcrgen Prochnow, Herbert Gr\\\\xf6nemeyer, Klaus Wennemann',\n",
       "       'Y\\\\xf4ji Matsuda, Yuriko Ishida, Y\\\\xfbko Tanaka',\n",
       "       'Audrey Tauto, Mathieu Kassovitz, Rufus',\n",
       "       'Cary Grant, Eva Marie Saint, James Mason',\n",
       "       'Aamir Khan, Soha Ali Khan, Siddharth',\n",
       "       'Peyman Moaadi, Leila Hatami, Sareh Bayat',\n",
       "       'Orson Welles, Joseph Cotten, Dorothy Comingore',\n",
       "       'Sigourney Weaver, Michael Biehn, Carrie Henn',\n",
       "       'James Stewart, Kim Novak, Barbara Bel Geddes',\n",
       "       'Min-sik Choi, Ji-tae Y, Hye-jeong Kang',\n",
       "       'Robert De Niro, James Woods, Elizabeth McGovern',\n",
       "       'Fred MacMurray, Barbara Stanwyck, Edward G. Robinson',\n",
       "       'Tom Hanks, Tim Allen, Joan Cusack',\n",
       "       'Mel Gibson, Sophie Marcea, Patrick McGoohan',\n",
       "       'Gregory Peck, John Megna, Frank Overton',\n",
       "       'Ellen Burstyn, Jared Leto, Jennifer Connelly',\n",
       "       'u\"Peter O\\'Toole\", Alec Guinness, Anthony Quinn',\n",
       "       'Malcolm McDowell, Patrick Magee, Michael Bates',\n",
       "       'Lamberto Maggiorani, Enzo Staiola, Lianella Carell',\n",
       "       'Charles Chaplin, Edna Purviance, Jackie Coogan',\n",
       "       'Shah Rukh Khan, Gayatri Joshi, Kishori Balal',\n",
       "       'Harvey Keitel, Tim Roth, Michael Madsen',\n",
       "       'Jim Carrey, Kate Winslet, Tom Wilkinson',\n",
       "       'Robert De Niro, Jodie Foster, Cybill Shepherd',\n",
       "       'Shah Rukh Khan, Kajol, Amrish Puri',\n",
       "       'Gene Kelly, u\"Donald O\\'Connor\", Debbie Reynolds',\n",
       "       'Bette Davis, Anne Baxter, George Sanders',\n",
       "       'Toshir\\\\xf4 Mifune, Eijir\\\\xf4 T\\\\xf4no, Tatsuya Nakadai',\n",
       "       'Paul Newman, Robert Redford, Robert Shaw',\n",
       "       'Toshir\\\\xf4 Mifune, Machiko Ky\\\\xf4, Masayuki Mori',\n",
       "       'F. Murray Abraham, Tom Hulce, Elizabeth Berridge',\n",
       "       'Humphrey Bogart, Walter Huston, Tim Holt',\n",
       "       'Graham Chapman, John Cleese, Eric Idle',\n",
       "       'Matthew Modine, R. Lee Ermey, u\"Vincent D\\'Onofrio\"]',\n",
       "       'Jack Lemmon, Shirley MacLaine, Fred MacMurray',\n",
       "       'Takashi Shimura, Nobuo Kaneko, u\"Shin\\'ichi Himori\"]',\n",
       "       'Orson Welles, Joseph Cotten, Alida Valli',\n",
       "       'Jason Statham, Brad Pitt, Benicio Del Toro',\n",
       "       'Clint Eastwood, Lee Van Cleef, Gian Maria Volont\\\\xe9',\n",
       "       'Brigitte Helm, Alfred Abel, Gustav Fr\\\\xf6hlich',\n",
       "       'Aamir Khan, Saif Ali Khan, Akshaye Khanna',\n",
       "       'Keir Dullea, Gary Lockwood, William Sylvester',\n",
       "       'Marilyn Monroe, Tony Curtis, Jack Lemmon',\n",
       "       'Kevin Spacey, Russell Crowe, Guy Pearce',\n",
       "       'Christian Bale, Michael Caine, Ken Watanabe',\n",
       "       'Brad Pitt, Diane Kruger, Eli Roth',\n",
       "       'Al Pacino, Michelle Pfeiffer, Steven Bauer',\n",
       "       'James Stewart, Jean Arthur, Claude Rains',\n",
       "       'Tom Hanks, Tim Allen, Don Rickles',\n",
       "       'Harrison Ford, Sean Connery, Alison Doody',\n",
       "       'Clint Eastwood, Gene Hackman, Morgan Freeman',\n",
       "       'Steve McQueen, James Garner, Richard Attenborough',\n",
       "       'Mads Mikkelsen, Thomas Bo Larsen, Annika Wedderkopp',\n",
       "       'Marlon Brando, Karl Malden, Lee J. Cobb',\n",
       "       'Buster Keaton, Marion Mack, Glen Cavender',\n",
       "       'Robert De Niro, Cathy Moriarty, Joe Pesci',\n",
       "       'Bruno Ganz, Alexandra Maria Lara, Ulrich Matthes',\n",
       "       'Edward Asner, Jordan Nagai, John Ratzenberger',\n",
       "       'Victor Sj\\\\xf6str\\\\xf6m, Bibi Andersson, Ingrid Thulin',\n",
       "       'Charles Chaplin, Mack Swain, Tom Murray',\n",
       "       'Tatsuya Nakadai, Akira Terao, Jinpachi Nez]',\n",
       "       'Jack Nicholson, Faye Dunaway, John Huston',\n",
       "       'Hitoshi Takagi, Noriko Hidaka, Chika Sakamoto',\n",
       "       'Spencer Tracy, Burt Lancaster, Richard Widmark',\n",
       "       'Ranbir Kapoor, Priyanka Chopra, Ileana',\n",
       "       'Max von Sydow, Gunnar Bj\\\\xf6rnstrand, Bengt Ekerot',\n",
       "       'Al Pacino, Robert De Niro, Val Kilmer',\n",
       "       'Ivana Baquero, Ariadna Gil, Sergi L\\\\xf3pez',\n",
       "       'William Holden, Alec Guinness, Jack Hawkins',\n",
       "       'Bruce Willis, Alan Rickman, Bonnie Bedelia',\n",
       "       'Robin Williams, Matt Damon, Ben Affleck',\n",
       "       'Yves Montand, Charles Vanel, Peter van Eyck',\n",
       "       'Ricardo Dar\\\\xedn, Soledad Villamil, Pablo Rago',\n",
       "       'Aamir Khan, Gracy Singh, Rachel Shelley',\n",
       "       'Leonardo DiCaprio, Jonah Hill, Margot Robbie',\n",
       "       'Clark Gable, Claudette Colbert, Walter Connolly',\n",
       "       'Harrison Ford, Rutger Hauer, Sean Young',\n",
       "       'Tom Hardy, Nick Nolte, Joel Edgerton',\n",
       "       'Chieko Baish\\\\xf4, Takuya Kimura, Tatsuya Gash\\\\xfbin',\n",
       "       'Anthony Hopkins, John Hurt, Anne Bancroft',\n",
       "       'Laurence Olivier, Joan Fontaine, George Sanders',\n",
       "       'Lubna Azabal, M\\\\xe9lissa D\\\\xe9sormeaux-Poulin, Maxim Gaudette',\n",
       "       'Jason Flemyng, Dexter Fletcher, Nick Moran',\n",
       "       'Hugo Weaving, Natalie Portman, Rupert Graves',\n",
       "       'Jeff Bridges, John Goodman, Julianne Moore',\n",
       "       'Paul Newman, George Kennedy, Strother Martin',\n",
       "       'Dar\\\\xedo Grandinetti, Mar\\\\xeda Marull, M\\\\xf3nica Villa',\n",
       "       'Robert De Niro, Sharon Stone, Joe Pesci',\n",
       "       'Clark Gable, Vivien Leigh, Thomas Mitchell',\n",
       "       'Ben Affleck, Rosamund Pike, Neil Patrick Harris',\n",
       "       'Fredric March, Dana Andrews, Myrna Loy',\n",
       "       'Jay Baruchel, Gerard Butler, Christopher Mintz-Plasse',\n",
       "       'Simone Signoret, V\\\\xe9ra Clouzot, Paul Meurisse',\n",
       "       'Clint Eastwood, Bee Vang, Christopher Carley',\n",
       "       'Daniel Br\\\\xfchl, Chris Hemsworth, Olivia Wilde',\n",
       "       'Emile Hirsch, Vince Vaughn, Catherine Keener',\n",
       "       'Tae-hyun Cha, Gianna Jun, In-mun Kim',\n",
       "       'Robert De Niro, Christopher Walken, John Cazale',\n",
       "       'Toni Collette, Philip Seymour Hoffman, Eric Bana',\n",
       "       'Richard Gere, Joan Allen, Cary-Hiroyuki Tagawa',\n",
       "       'Humphrey Bogart, Mary Astor, Gladys George',\n",
       "       'Russell Crowe, Ed Harris, Jennifer Connelly',\n",
       "       'Ray Milland, Grace Kelly, Robert Cummings',\n",
       "       'Ewan McGregor, Ewen Bremner, Jonny Lee Miller',\n",
       "       'Dong-gun Jang, Bin Won, Eun-ju Lee',\n",
       "       'Bibi Andersson, Liv Ullmann, Margaretha Krook',\n",
       "       'Charlton Heston, Orson Welles, Janet Leigh',\n",
       "       'William H. Macy, Frances McDormand, Steve Buscemi',\n",
       "       'Robert Downey Jr., Chris Evans, Scarlett Johansson',\n",
       "       'Jean-Pierre L\\\\xe9aud, Albert R\\\\xe9my, Claire Maurier',\n",
       "       'Cary Elwes, Mandy Patinkin, Robin Wright',\n",
       "       'Don Cheadle, Sophie Okonedo, Joaquin Phoenix',\n",
       "       'Alisa Freyndlikh, Aleksandr Kaydanovskiy, Anatoliy Solonitsyn',\n",
       "       'Brahim Hadjadj, Jean Martin, Yacef Saadi',\n",
       "       'Predrag Manojlovic, Lazar Ristovski, Mirjana Jokovic',\n",
       "       'Bertil Guve, Pernilla Allwin, Kristina Adolphson',\n",
       "       'Faye Dunaway, William Holden, Peter Finch',\n",
       "       'Kurt Russell, Wilford Brimley, Keith David',\n",
       "       'Paul Newman, Robert Redford, Katharine Ross',\n",
       "       'Henry Fonda, Jane Darwell, John Carradine',\n",
       "       'Bajram Severdzan, Srdjan Todorovic, Branka Katic',\n",
       "       'Graham Chapman, John Cleese, Michael Palin',\n",
       "       'Bruce Willis, Haley Joel Osment, Toni Collette',\n",
       "       'Albert Brooks, Ellen DeGeneres, Alexander Gould',\n",
       "       'Sumi Shimamoto, Mahito Tsujimura, Hisako Ky\\\\xf4da',\n",
       "       'Colin Firth, Taron Egerton, Samuel L. Jackson',\n",
       "       'Charlie Sheen, Tom Berenger, Willem Dafoe',\n",
       "       'Chris Pratt, Vin Diesel, Bradley Cooper',\n",
       "       'Daniel Day-Lewis, Pete Postlethwaite, Alison Crosbie',\n",
       "       'Uma Thurman, David Carradine, Daryl Hannah',\n",
       "       'Tommy Lee Jones, Javier Bardem, Josh Brolin',\n",
       "       'Alain Delon, Nathalie Delon, Fran\\\\xe7ois P\\\\xe9rier',\n",
       "       'Chiwetel Ejiofor, Michael Kenneth Williams, Michael Fassbender',\n",
       "       'Tim Roth, Pruitt Taylor Vince, Bill Nunn',\n",
       "       'Marcello Mastroianni, Anouk Aim\\\\xe9e, Claudia Cardinale',\n",
       "       'Charlton Heston, Jack Hawkins, Stephen Boyd',\n",
       "       'Emilio Echevarr\\\\xeda, Gael Garc\\\\xeda Bernal, Goya Toledo',\n",
       "       'Wil Wheaton, River Phoenix, Corey Feldman',\n",
       "       'Bette Davis, Joan Crawford, Victor Buono',\n",
       "       'Woody Allen, Diane Keaton, Tony Roberts',\n",
       "       'Benedict Cumberbatch, Keira Knightley, Matthew Goode',\n",
       "       'Gene Tierney, Dana Andrews, Clifton Webb',\n",
       "       'Masahiro Motoki, Ry\\\\xf4ko Hirosue, Tsutomu Yamazaki',\n",
       "       'Andy La, Tony Chiu Wai Leung, Anthony Chau-Sang Wong',\n",
       "       'Daniel Day-Lewis, Paul Dano, Ciar\\\\xe1n Hinds',\n",
       "       'Ralph Fiennes, F. Murray Abraham, Mathieu Amalric',\n",
       "       'Anthony Quinn, Giulietta Masina, Richard Basehart',\n",
       "       'Mickey Rourke, Clive Owen, Bruce Willis',\n",
       "       'Kang-ho Song, Sang-kyung Kim, Roe-ha Kim',\n",
       "       'Jake Gyllenhaal, Jena Malone, Mary McDonnell',\n",
       "       'Elizabeth Taylor, Richard Burton, George Segal',\n",
       "       'Ben Kingsley, John Gielgud, Candice Bergen',\n",
       "       'Natalya Bondarchuk, Donatas Banionis, J\\\\xfcri J\\\\xe4rvet',\n",
       "       'Daniel Radcliffe, Emma Watson, Rupert Grint',\n",
       "       'Harry Dean Stanton, Nastassja Kinski, Dean Stockwell',\n",
       "       'Judy Garland, Frank Morgan, Ray Bolger',\n",
       "       'Seung-yeon Lee, Hyun-kyoon Lee, Hyuk-ho Kwon',\n",
       "       'Ellar Coltrane, Patricia Arquette, Ethan Hawke',\n",
       "       'Hilary Swank, Clint Eastwood, Morgan Freeman',\n",
       "       'Timothy Bottoms, Jeff Bridges, Cybill Shepherd',\n",
       "       'Farley Granger, Robert Walker, Ruth Roman',\n",
       "       'Elizabeth Taylor, Paul Newman, Burl Ives',\n",
       "       'Marcello Mastroianni, Anita Ekberg, Anouk Aim\\\\xe9e',\n",
       "       'Brigitte Lin, Takeshi Kaneshiro, Tony Chiu Wai Leung',\n",
       "       'Robert Mitchum, Shelley Winters, Lillian Gish',\n",
       "       'Vincent Cassel, Hubert Kound\\\\xe9, Sa\\\\xefd Taghmaoui',\n",
       "       'Donnie Yen, Simon Yam, Siu-Wong Fan',\n",
       "       'Gary Cooper, Grace Kelly, Thomas Mitchell',\n",
       "       'Cary Grant, Ingrid Bergman, Claude Rains',\n",
       "       'Ethan Hawke, Julie Delpy, Andrea Eckert',\n",
       "       'Wagner Moura, Irandhir Santos, Andr\\\\xe9 Ramiro',\n",
       "       'Matt Damon, \\\\xc9dgar Ram\\\\xedrez, Joan Allen',\n",
       "       'Anna Paquin, James Van Der Beek, Cloris Leachman',\n",
       "       'Ulrich Thomsen, Henning Moritzen, Thomas Bo Larsen',\n",
       "       'Ki-duk Kim, Yeong-su Oh, Jong-ho Kim',\n",
       "       'Leonardo DiCaprio, Emily Mortimer, Mark Ruffalo',\n",
       "       'u\"Ryan O\\'Neal\", Marisa Berenson, Patrick Magee',\n",
       "       'William Holden, Don Taylor, Otto Preminger',\n",
       "       'Ir\\\\xe8ne Jacob, Jean-Louis Trintignant, Fr\\\\xe9d\\\\xe9rique Feder',\n",
       "       'Patrick Stewart, Ian McKellen, Hugh Jackman',\n",
       "       'Laurence Olivier, Michael Caine, Alec Cawthorne',\n",
       "       'Tony Chiu Wai Leung, Maggie Cheung, Ping Lam Si]',\n",
       "       'James Stewart, John Wayne, Vera Miles',\n",
       "       'Cary Grant, Priscilla Lane, Raymond Massey',\n",
       "       'Humphrey Bogart, Lauren Bacall, John Ridgely',\n",
       "       'Gregory Peck, Audrey Hepburn, Eddie Albert',\n",
       "       'Cary Grant, Katharine Hepburn, James Stewart',\n",
       "       'Nozomu Sasaki, Mami Koyama, Mitsuo Iwata',\n",
       "       'James Stewart, Lee Remick, Ben Gazzara',\n",
       "       'Werner Krauss, Conrad Veidt, Friedrich Feher',\n",
       "       'Emma Stone, Viola Davis, Octavia Spencer',\n",
       "       'Javier Bardem, Bel\\\\xe9n Rueda, Lola Due\\\\xf1as',\n",
       "       'Wagner Moura, Andr\\\\xe9 Ramiro, Caio Junqueira',\n",
       "       'Paul Newman, Jackie Gleason, Piper Laurie',\n",
       "       'John Wayne, Dean Martin, Ricky Nelson',\n",
       "       'Bruce Willis, Madeleine Stowe, Brad Pitt',\n",
       "       'James Stewart, Josephine Hull, Peggy Dow',\n",
       "       'Peter Billingsley, Melinda Dillon, Darren McGavin',\n",
       "       'Roy Scheider, Robert Shaw, Richard Dreyfuss',\n",
       "       'Iko Uwais, Yayan Ruhian, Arifin Putra',\n",
       "       'Sylvester Stallone, Talia Shire, Burt Young',\n",
       "       'Bruno Ganz, Solveig Dommartin, Otto Sander',\n",
       "       'Johnny Depp, Geoffrey Rush, Orlando Bloom',\n",
       "       'Sterling Hayden, Coleen Gray, Vince Edwards',\n",
       "       'Steve McQueen, Dustin Hoffman, Victor Jory',\n",
       "       'Colin Firth, Geoffrey Rush, Helena Bonham Carter',\n",
       "       'Bill Murray, Andie MacDowell, Chris Elliott',\n",
       "       'Clint Eastwood, Gian Maria Volont\\\\xe9, Marianne Koch',\n",
       "       'Billy Crystal, John Goodman, Mary Gibbs',\n",
       "       'Al Pacino, John Cazale, Penelope Allen',\n",
       "       'Logan Lerman, Emma Watson, Ezra Miller',\n",
       "       'Gene Wilder, Madeline Kahn, Marty Feldman',\n",
       "       'Arnold Schwarzenegger, Linda Hamilton, Michael Biehn',\n",
       "       'Ruth Gordon, Bud Cort, Vivian Pickles',\n",
       "       'Ethan Hawke, Julie Delpy, Vernon Dobtcheff',\n",
       "       'Vivien Leigh, Marlon Brando, Kim Hunter',\n",
       "       'Katharine Hepburn, Cary Grant, Charles Ruggles',\n",
       "       'Mathieu Amalric, Emmanuelle Seigner, Marie-Jos\\\\xe9e Croze',\n",
       "       'Cary Grant, Rosalind Russell, Ralph Bellamy',\n",
       "       'Billy Bob Thornton, Dwight Yoakam, J.T. Walsh',\n",
       "       'Lew Ayres, Louis Wolheim, John Wray',\n",
       "       'Hugh Jackman, Jake Gyllenhaal, Viola Davis',\n",
       "       'Vladimir Garin, Ivan Dobronravov, Konstantin Lavronenko',\n",
       "       'Frank Sinatra, Laurence Harvey, Janet Leigh',\n",
       "       'Groucho Marx, Harpo Marx, Chico Marx',\n",
       "       'u\"Paige O\\'Hara\", Robby Benson, Richard White',\n",
       "       'Jim Carrey, Ed Harris, Laura Linney',\n",
       "       'William Holden, Ernest Borgnine, Robert Ryan',\n",
       "       'James Stewart, John Dall, Farley Granger',\n",
       "       'Dustin Hoffman, Anne Bancroft, Katharine Ross',\n",
       "       'Sam Neill, Laura Dern, Jeff Goldblum',\n",
       "       'Nicole Kidman, Paul Bettany, Lauren Bacall',\n",
       "       'Vin Diesel, Paul Walker, Dwayne Johnson',\n",
       "       'George C. Scott, Karl Malden, Stephen Young',\n",
       "       'Danny Elfman, Chris Sarandon, u\"Catherine O\\'Hara\"]',\n",
       "       'Peter Sellers, Shirley MacLaine, Melvyn Douglas',\n",
       "       'Chiara Mastroianni, Catherine Deneuve, Gena Rowlands',\n",
       "       'Rob Reiner, Michael McKean, Christopher Guest',\n",
       "       'James Dean, Raymond Massey, Julie Harris',\n",
       "       'Bob Geldof, Christine Hargreaves, James Laurenson',\n",
       "       'Leonardo DiCaprio, Djimon Hounso, Jennifer Connelly',\n",
       "       'Ewan McGregor, Albert Finney, Billy Crudup',\n",
       "       'Dev Patel, Freida Pinto, Saurabh Shukla',\n",
       "       'Chris Pine, Zachary Quinto, Simon Pegg',\n",
       "       'Richard Farnsworth, Sissy Spacek, Jane Galloway Heitz',\n",
       "       'Martin Landa, Woody Allen, Bill Bernstein',\n",
       "       'Cary Grant, Audrey Hepburn, Walter Mattha]',\n",
       "       'Kevin Costner, Gary Oldman, Jack Lemmon',\n",
       "       'David Emge, Ken Foree, Scott H. Reiniger',\n",
       "       'Tom Cruise, Jason Robards, Julianne Moore',\n",
       "       'Woody Allen, Diane Keaton, Mariel Hemingway',\n",
       "       'Fernanda Montenegro, Vin\\\\xedcius de Oliveira, Mar\\\\xedlia P\\\\xeara',\n",
       "       'Jonathan Pryce, Kim Greist, Robert De Niro',\n",
       "       'Ellen Burstyn, Max von Sydow, Linda Blair',\n",
       "       'Joaquin Phoenix, Amy Adams, Scarlett Johansson',\n",
       "       'Bj\\\\xf6rk, Catherine Deneuve, David Morse',\n",
       "       'Dustin Hoffman, Tom Cruise, Valeria Golino',\n",
       "       'Rosario Flores, Javier C\\\\xe1mara, Dar\\\\xedo Grandinetti',\n",
       "       'Errol Flynn, Olivia de Havilland, Basil Rathbone',\n",
       "       'Klaus Kinski, Ruy Guerra, Helena Rojo',\n",
       "       'Sidney Poitier, Rod Steiger, Warren Oates',\n",
       "       'Max Schreck, Greta Schr\\\\xf6der, Ruth Landshoff',\n",
       "       'Natalie Portman, Mila Kunis, Vincent Cassel',\n",
       "       'Brad Garrett, Lou Romano, Patton Oswalt',\n",
       "       'John Wayne, Jeffrey Hunter, Vera Miles',\n",
       "       'Brie Larson, Frantz Turner, John Gallagher Jr.',\n",
       "       'Omar Sharif, Julie Christie, Geraldine Chaplin',\n",
       "       'Suraj Sharma, Irrfan Khan, Adil Hussain',\n",
       "       'Dustin Hoffman, Robert Redford, Jack Warden',\n",
       "       'Aleksandr Antonov, Vladimir Barsky, Grigori Aleksandrov',\n",
       "       'Kevin Costner, Mary McDonnell, Graham Greene',\n",
       "       'Leonardo DiCaprio, Tom Hanks, Christopher Walken',\n",
       "       'Russell Crowe, Ren\\\\xe9e Zellweger, Craig Bierko',\n",
       "       'Robin Williams, Robert Sean Leonard, Ethan Hawke',\n",
       "       'Atsuko Tanaka, Iemasa Kayumi, Akio \\\\xd4tsuka',\n",
       "       'Birol \\\\xdcnel, Sibel Kekilli, G\\\\xfcven Kira\\\\xe7',\n",
       "       'Branko Djuric, Rene Bitorajac, Filip Sovagovic',\n",
       "       'Matthew McConaughey, Jennifer Garner, Jared Leto',\n",
       "       'Richard Gere, Brooke Adams, Sam Shepard',\n",
       "       'Julie Andrews, Christopher Plummer, Eleanor Parker',\n",
       "       'Sharlto Copley, David James, Jason Cope',\n",
       "       'Teresa Wright, Joseph Cotten, Macdonald Carey',\n",
       "       'Colin Clive, Mae Clarke, Boris Karloff',\n",
       "       'Simon Pegg, Nick Frost, Kate Ashfield',\n",
       "       'Duane Jones, u\"Judith O\\'Dea\", Karl Hardman',\n",
       "       'Uma Thurman, David Carradine, Michael Madsen',\n",
       "       'Timothy Spall, Brenda Blethyn, Phyllis Logan',\n",
       "       'Jean Dujardin, B\\\\xe9r\\\\xe9nice Bejo, John Goodman',\n",
       "       'Scott Weinger, Robin Williams, Linda Larkin',\n",
       "       'Margaret Lockwood, Michael Redgrave, Paul Lukas',\n",
       "       'Ian McKellen, Martin Freeman, Richard Armitage',\n",
       "       'K\\\\xe5re Hedebrant, Lina Leandersson, Per Ragnar',\n",
       "       'Topol, Norma Crane, Leonard Frey',\n",
       "       'Martin Freeman, Ian McKellen, Richard Armitage',\n",
       "       'Juliette Binoche, Zbigniew Zamachowski, Julie Delpy',\n",
       "       'Mia Farrow, John Cassavetes, Ruth Gordon',\n",
       "       'Sean Penn, Tim Robbins, Kevin Bacon',\n",
       "       'Nathan Fillion, Gina Torres, Chiwetel Ejiofor',\n",
       "       'Magali No\\\\xebl, Bruno Zanin, Pupella Maggio',\n",
       "       'Charlton Heston, Roddy McDowall, Kim Hunter',\n",
       "       'Christian Slater, Patricia Arquette, Dennis Hopper',\n",
       "       'Mia Farrow, Dianne Wiest, Michael Caine',\n",
       "       'Sam Rockwell, Kevin Spacey, Dominique McElligott',\n",
       "       'Ethan Hawke, Julie Delpy, Seamus Davey-Fitzpatrick',\n",
       "       'Shah Rukh Khan, Kajol, Sheetal Menon',\n",
       "       'Al Pacino, u\"Chris O\\'Donnell\", James Rebhorn',\n",
       "       'Naomi Watts, Laura Harring, Justin Theroux',\n",
       "       'Fay Wray, Robert Armstrong, Bruce Cabot',\n",
       "       'Shailene Woodley, Ansel Elgort, Nat Wolff',\n",
       "       'Craig T. Nelson, Samuel L. Jackson, Holly Hunter',\n",
       "       'Johnny Depp, Winona Ryder, Dianne Wiest',\n",
       "       'Daniel Craig, Eva Green, Judi Dench',\n",
       "       'Jay Baruchel, Cate Blanchett, Gerard Butler',\n",
       "       'Colin Farrell, Brendan Gleeson, Ciar\\\\xe1n Hinds',\n",
       "       'Kevin Costner, Sean Connery, Robert De Niro',\n",
       "       'Jean-Paul Belmondo, Jean Seberg, Daniel Boulanger',\n",
       "       'Kirk Douglas, Laurence Olivier, Jean Simmons',\n",
       "       'Eli Marienthal, Harry Connick Jr., Jennifer Aniston',\n",
       "       'Dustin Hoffman, Jon Voight, Sylvia Miles',\n",
       "       'John Belushi, Dan Aykroyd, Cab Calloway',\n",
       "       'Wallace Ford, Leila Hyams, Olga Baclanova',\n",
       "       'Ken Watanabe, Kazunari Ninomiya, Tsuyoshi Ihara',\n",
       "       'Tom Cruise, Emily Blunt, Bill Paxton',\n",
       "       'Matthew Broderick, Denzel Washington, Cary Elwes',\n",
       "       'Humphrey Bogart, Katharine Hepburn, Robert Morley',\n",
       "       'Michael Keaton, Zach Galifianakis, Edward Norton',\n",
       "       'Ryan Potter, Scott Adsit, Jamie Chung',\n",
       "       'Billy Crudup, Patrick Fugit, Kate Hudson',\n",
       "       'Gena Rowlands, James Garner, Rachel McAdams',\n",
       "       'Gene Hackman, John Cazale, Allen Garfield',\n",
       "       'Emilio Estevez, Judd Nelson, Molly Ringwald',\n",
       "       'Will Smith, Thandie Newton, Jaden Smith',\n",
       "       'Yun-Fat Chow, Danny Lee, Sally Yeh',\n",
       "       'Glen Hansard, Mark\\\\xe9ta Irglov\\\\xe1, Hugh Walsh',\n",
       "       'Jet Li, Tony Chiu Wai Leung, Maggie Cheung',\n",
       "       'Anthony Hopkins, Emma Thompson, John Haycraft',\n",
       "       'Boris Karloff, Elsa Lanchester, Colin Clive',\n",
       "       'Mickey Rourke, Marisa Tomei, Evan Rachel Wood',\n",
       "       'Jake Gyllenhaal, Rene Russo, Bill Paxton',\n",
       "       'Sandra Bullock, George Clooney, Ed Harris',\n",
       "       'Yun-Fat Chow, Tony Chiu Wai Leung, Teresa Mo',\n",
       "       'Warren Beatty, Faye Dunaway, Michael J. Pollard',\n",
       "       'Franka Potente, Matt Damon, Chris Cooper',\n",
       "       'Humphrey Bogart, Edward G. Robinson, Lauren Bacall',\n",
       "       'Ricardo Dar\\\\xedn, Gast\\\\xf3n Pauls, Leticia Br\\\\xe9dice',\n",
       "       'Sam Waterston, Haing S. Ngor, John Malkovich',\n",
       "       'Cecilia Roth, Marisa Paredes, Candela Pe\\\\xf1a',\n",
       "       'Beau Billingslea, Melissa Fahn, Nicholas Guest',\n",
       "       'Johnny Depp, Martin Landa, Sarah Jessica Parker',\n",
       "       'John Wayne, Claire Trevor, Andy Devine',\n",
       "       'Sean Connery, Michael Caine, Christopher Plummer',\n",
       "       'Clint Eastwood, Sondra Locke, Chief Dan George',\n",
       "       'Julianne Moore, Clive Owen, Chiwetel Ejiofor',\n",
       "       'Russell Crowe, Al Pacino, Christopher Plummer',\n",
       "       'Sam Shepard, Scott Glenn, Ed Harris',\n",
       "       'Martin Sheen, Sissy Spacek, Warren Oates',\n",
       "       'Tahar Rahim, Niels Arestrup, Adel Bencherif',\n",
       "       'Anamaria Marinca, Vlad Ivanov, Laura Vasili]',\n",
       "       'B\\\\xe9r\\\\xe9nice Bejo, Tahar Rahim, Ali Mosaffa',\n",
       "       'Lee Pace, Catinca Untar, Justine Waddell',\n",
       "       'Emily Watson, Stellan Skarsg\\\\xe5rd, Katrin Cartlidge',\n",
       "       'Jared Leto, Sarah Polley, Diane Kruger',\n",
       "       'Don Cheadle, Sandra Bullock, Thandie Newton',\n",
       "       'Sam Worthington, Zoe Saldana, Sigourney Weaver',\n",
       "       'Robert Downey Jr., Gwyneth Paltrow, Terrence Howard',\n",
       "       'Danny Aiello, Ossie Davis, Ruby Dee',\n",
       "       'Al Pacino, Sean Penn, Penelope Ann Miller',\n",
       "       'Yun-Fat Chow, Michelle Yeoh, Ziyi Zhang',\n",
       "       'Oksana Akinshina, Artyom Bogucharskiy, Pavel Ponomaryov',\n",
       "       'G\\\\xe9rard Jugnot, Fran\\\\xe7ois Berl\\\\xe9and, Jean-Baptiste Maunier',\n",
       "       'Willem Dafoe, Sean Patrick Flanery, Norman Reedus',\n",
       "       'Gabriel Byrne, Albert Finney, John Turturro',\n",
       "       'Joaquin Phoenix, Reese Witherspoon, Ginnifer Goodwin',\n",
       "       'Mike Myers, Eddie Murphy, Cameron Diaz',\n",
       "       'Audrey Hepburn, Rex Harrison, Stanley Holloway',\n",
       "       'Charlton Heston, Yul Brynner, Anne Baxter',\n",
       "       'Mark Wahlberg, Christian Bale, Amy Adams',\n",
       "       'Tom Hanks, Barkhad Abdi, Barkhad Abdirahman',\n",
       "       'Liza Minnelli, Michael York, Helmut Griem',\n",
       "       'Donald Pleasence, Jamie Lee Curtis, Tony Moran',\n",
       "       'Daniel Day-Lewis, Brenda Fricker, Alison Whelan',\n",
       "       'Edmund Gwenn, u\"Maureen O\\'Hara\", John Payne',\n",
       "       'Bin Won, Sae-ron Kim, Tae-hoon Kim',\n",
       "       'Riisa Naka, Takuya Ishida, Mitsutaka Itakura',\n",
       "       'Steve Carell, Toni Collette, Greg Kinnear',\n",
       "       'Liam Neeson, Maggie Grace, Famke Janssen',\n",
       "       'L\\\\xe9a Seydoux, Ad\\\\xe8le Exarchopoulos, Salim Kechiouche',\n",
       "       'Mark Wahlberg, Julianne Moore, Burt Reynolds',\n",
       "       'Simon Pegg, Nick Frost, Martin Freeman',\n",
       "       'Matthew Broderick, Alan Ruck, Mia Sara',\n",
       "       'Anthony Hopkins, Diane Ladd, Iain Rea',\n",
       "       'Kirsten Dunst, Minami Takayama, Rei Sakuma',\n",
       "       'Tom Waits, John Lurie, Roberto Benigni',\n",
       "       'Al Pacino, Jack Lemmon, Alec Baldwin',\n",
       "       'u\"Brian O\\'Halloran\", Jeff Anderson, Marilyn Ghigliotti',\n",
       "       'Ulrich Thomsen, Mads Mikkelsen, Nicolas Bro',\n",
       "       'Daniel Craig, Rooney Mara, Christopher Plummer',\n",
       "       'Robert Donat, Madeleine Carroll, Lucie Mannheim',\n",
       "       'Henry Thomas, Drew Barrymore, Peter Coyote',\n",
       "       'Kurt Russell, Val Kilmer, Sam Elliott',\n",
       "       'Arnold Schwarzenegger, Carl Weathers, Kevin Peter Hall',\n",
       "       'Mandy Moore, Zachary Levi, Donna Murphy',\n",
       "       'Spencer Tracy, Sidney Poitier, Katharine Hepburn',\n",
       "       'Donald Sutherland, Mary Tyler Moore, Judd Hirsch',\n",
       "       'Geoffrey Rush, Jim Sturgess, Sylvia Hoeks',\n",
       "       'Bradley Cooper, Jennifer Lawrence, Robert De Niro',\n",
       "       'Kenneth Branagh, Julie Christie, Derek Jacobi',\n",
       "       'Jean-Louis Trintignant, Emmanuelle Riva, Isabelle Huppert',\n",
       "       'Byung-hun Lee, Min-sik Choi, In-seo Kim',\n",
       "       'Gael Garc\\\\xeda Bernal, Rodrigo De la Serna, M\\\\xeda Maestro',\n",
       "       'Ron Livingston, Jennifer Aniston, David Herman',\n",
       "       'Andreas Wilson, Henrik Lundstr\\\\xf6m, Gustaf Skarsg\\\\xe5rd',\n",
       "       'Michael Nyqvist, Noomi Rapace, Ewa Fr\\\\xf6ling',\n",
       "       'Richard E. Grant, Paul McGann, Richard Griffiths',\n",
       "       'Michael Rennie, Patricia Neal, Hugh Marlowe',\n",
       "       'Carice van Houten, Sebastian Koch, Thom Hoffman',\n",
       "       'Bruce Campbell, Sarah Berry, Dan Hicks',\n",
       "       'Hideaki Anno, Hidetoshi Nishijima, Miori Takimoto',\n",
       "       'Chris Pine, Zachary Quinto, Zoe Saldana',\n",
       "       'Mich\\\\xe8le Caucheteux, Jean-Claude Donda, Michel Robin',\n",
       "       'Eduardo Noriega, Pen\\\\xe9lope Cruz, Chete Lera',\n",
       "       'Yul Brynner, Steve McQueen, Charles Bronson',\n",
       "       'Ryan Gosling, Carey Mulligan, Bryan Cranston',\n",
       "       'Gene Hackman, Willem Dafoe, Frances McDormand',\n",
       "       'Chris Pratt, Will Ferrell, Elizabeth Banks',\n",
       "       'Edward Fox, Terence Alexander, Michel Auclair',\n",
       "       'James Caan, Kathy Bates, Richard Farnsworth',\n",
       "       'Gene Wilder, Jack Albertson, Peter Ostrum',\n",
       "       'Leopold Stokowski, Deems Taylor, Corey Burton',\n",
       "       'Ethan Hawke, Uma Thurman, Jude Law',\n",
       "       'Denzel Washington, Russell Crowe, Chiwetel Ejiofor',\n",
       "       'Sh\\\\xfbichir\\\\xf4 Moriyama, Tokiko Kat\\\\xf4, Sanshi Katsura',\n",
       "       'Gene Hackman, Roy Scheider, Fernando Rey',\n",
       "       'Asa Butterfield, David Thewlis, Rupert Friend',\n",
       "       'Christian Bale, John Malkovich, Miranda Richardson',\n",
       "       'Domhnall Gleeson, Rachel McAdams, Bill Nighy',\n",
       "       'Isabella Rossellini, Kyle MacLachlan, Dennis Hopper',\n",
       "       'Paddy Considine, Samantha Morton, Djimon Hounso]',\n",
       "       'Brad Pitt, Cate Blanchett, Tilda Swinton',\n",
       "       'Daniel Day-Lewis, Madeleine Stowe, Russell Means',\n",
       "       'Jared Gilman, Kara Hayward, Bruce Willis',\n",
       "       'James Dean, Natalie Wood, Sal Mineo',\n",
       "       'George Clooney, Meryl Streep, Bill Murray',\n",
       "       'Kevin McCarthy, Dana Wynter, Larry Gates',\n",
       "       'Jake Gyllenhaal, Chris Cooper, Laura Dern',\n",
       "       'Clint Eastwood, Andrew Robinson, Harry Guardino',\n",
       "       'Bill Murray, Dan Aykroyd, Sigourney Weaver',\n",
       "       'Chris Evans, Samuel L. Jackson, Scarlett Johansson',\n",
       "       'John C. Reilly, Jack McBrayer, Jane Lynch',\n",
       "       'Zach Galifianakis, Bradley Cooper, Justin Bartha',\n",
       "       'Catherine Deneuve, Jean Sorel, Michel Piccoli',\n",
       "       'George Clooney, John Turturro, Tim Blake Nelson',\n",
       "       'Catherine Deneuve, Ian Hendry, John Fraser',\n",
       "       'Robert Hays, Julie Hagerty, Leslie Nielsen',\n",
       "       'Keira Knightley, Matthew Macfadyen, Brenda Blethyn',\n",
       "       'Stanley Baker, Jack Hawkins, Ulla Jacobsson',\n",
       "       'Winona Ryder, Gena Rowlands, Lisanne Falk',\n",
       "       'Burt Lancaster, Montgomery Clift, Deborah Kerr',\n",
       "       'Gerardo Taracena, Raoul Trujillo, Dalia Hern\\\\xe1ndez',\n",
       "       'Keira Knightley, James McAvoy, Brenda Blethyn',\n",
       "       'Lee Marvin, Ernest Borgnine, Charles Bronson',\n",
       "       'James McAvoy, Michael Fassbender, Jennifer Lawrence',\n",
       "       'Franka Potente, Moritz Bleibtre, Herbert Knaup',\n",
       "       'John Wayne, Robert Ryan, Richard Burton',\n",
       "       'Woody Allen, Mia Farrow, Patrick Horgan',\n",
       "       'John Lone, Joan Chen, u\"Peter O\\'Toole\"]',\n",
       "       'Sean Astin, Josh Brolin, Jeff Cohen',\n",
       "       'Christian Friedel, Ernst Jacobi, Leonie Benesch',\n",
       "       'Harrison Ford, Tommy Lee Jones, Sela Ward',\n",
       "       'Danny Glover, Whoopi Goldberg, Oprah Winfrey',\n",
       "       'Trey Parker, Matt Stone, Mary Kay Bergman',\n",
       "       'Zooey Deschanel, Joseph Gordon-Levitt, Geoffrey Arend',\n",
       "       'Bill Murray, Scarlett Johansson, Giovanni Ribisi',\n",
       "       'Ben Affleck, Bryan Cranston, John Goodman',\n",
       "       'Cleavon Little, Gene Wilder, Slim Pickens',\n",
       "       'Audrey Hepburn, George Peppard, Patricia Neal',\n",
       "       'Johnny Depp, Kate Winslet, Julie Christie',\n",
       "       'Moritz Bleibtre, Christian Berkel, Oliver Stokowski',\n",
       "       'Josh Hartnett, Ben Kingsley, Morgan Freeman',\n",
       "       'Eddie Redmayne, Felicity Jones, Tom Prior',\n",
       "       'Stephen Chow, Wah Yuen, Qiu Yuen',\n",
       "       'John Cusack, Cameron Diaz, Catherine Keener',\n",
       "       'Jesse Eisenberg, Andrew Garfield, Justin Timberlake',\n",
       "       'Russell Crowe, Christian Bale, Ben Foster',\n",
       "       'Sean Connery, Christian Slater, Helmut Qualtinger',\n",
       "       'Julie Andrews, Dick Van Dyke, David Tomlinson',\n",
       "       'Michael Douglas, Deborah Kara Unger, Sean Penn',\n",
       "       'Angelina Jolie, Colm Feore, Amy Ryan',\n",
       "       'Al Pacino, Johnny Depp, Michael Madsen',\n",
       "       'Al Pacino, John Randolph, Jack Kehoe',\n",
       "       'Johnny Depp, Leonardo DiCaprio, Juliette Lewis',\n",
       "       'Sean Connery, Gert Fr\\\\xf6be, Honor Blackman',\n",
       "       'Bruce Dern, Will Forte, June Squibb',\n",
       "       'Tom Guiry, Mike Vitar, Patrick Renna',\n",
       "       'Cuba Gooding Jr., Laurence Fishburne, Hudhail Al-Amir',\n",
       "       'Matt Damon, Franka Potente, Joan Allen',\n",
       "       'Daniel Craig, Javier Bardem, Naomie Harris',\n",
       "       'Jamie Foxx, Regina King, Kerry Washington',\n",
       "       'Gerard Butler, Lena Headey, David Wenham',\n",
       "       'Robert De Niro, Chazz Palminteri, Lillo Brancato',\n",
       "       'Rod Taylor, Tippi Hedren, Suzanne Pleshette',\n",
       "       'Tatsuya Fujiwara, Aki Maeda, Tar\\\\xf4 Yamamoto',\n",
       "       'Sam Riley, Samantha Morton, Craig Parkinson',\n",
       "       'Dustin Hoffman, Meryl Streep, Jane Alexander',\n",
       "       'Jon Voight, Burt Reynolds, Ned Beatty',\n",
       "       'George Clooney, Brad Pitt, Julia Roberts',\n",
       "       'Jack Nicholson, Helen Hunt, Greg Kinnear',\n",
       "       'Robert De Niro, Robin Williams, Julie Kavner',\n",
       "       'Robert De Niro, Jerry Lewis, Diahnne Abbott',\n",
       "       'Denzel Washington, Christopher Walken, Dakota Fanning',\n",
       "       'Humphrey Bogart, Audrey Hepburn, William Holden',\n",
       "       'Rufus Sewell, Kiefer Sutherland, Jennifer Connelly',\n",
       "       'Daniel Br\\\\xfchl, Katrin Sa\\\\xdf, Chulpan Khamatova',\n",
       "       'Denzel Washington, Will Patton, Wood Harris',\n",
       "       'William Shatner, Leonard Nimoy, DeForest Kelley',\n",
       "       'Tom Hanks, Tyler Hoechlin, Rob Maxey',\n",
       "       'Jason Schwartzman, Bill Murray, Olivia Williams',\n",
       "       'Christian Bale, Jennifer Jason Leigh, Aitana S\\\\xe1nchez-Gij\\\\xf3n',\n",
       "       'Madeline Carroll, Callan McAuliffe, Rebecca De Mornay',\n",
       "       'Jim Caviezel, Guy Pearce, Richard Harris',\n",
       "       'Adrien Brody, Christina Hendricks, Marcia Gay Harden',\n",
       "       'Guillaume Canet, Marion Cotillard, Thibault Verhaeghe',\n",
       "       'Johnny Depp, Gary Farmer, Crispin Glover',\n",
       "       'Mia Farrow, Jeff Daniels, Danny Aiello',\n",
       "       'Sean Penn, Benicio Del Toro, Naomi Watts',\n",
       "       'Joseph Gordon-Levitt, Seth Rogen, Anna Kendrick',\n",
       "       'Aaron Taylor-Johnson, Nicolas Cage, Chlo\\\\xeb Grace Moretz',\n",
       "       'Marie-Laure Dougnac, Dominique Pinon, Pascal Benezech',\n",
       "       'John Turturro, John Goodman, Judy Davis',\n",
       "       'James McAvoy, Forest Whitaker, Gillian Anderson',\n",
       "       'Nicolas Cage, Meryl Streep, Chris Cooper',\n",
       "       'Audrey Tauto, Gaspard Ulliel, Jodie Foster',\n",
       "       'Brady Corbet, Joseph Gordon-Levitt, Elisabeth Shue',\n",
       "       'Charlie Cox, Claire Danes, Sienna Miller',\n",
       "       'Josh Hartnett, Ewan McGregor, Tom Sizemore',\n",
       "       'Megumi Hayashibara, T\\\\xf4ru Emori, Katsunosuke Hori',\n",
       "       'Johnny Depp, Benicio Del Toro, Tobey Maguire',\n",
       "       'Frank Langella, Michael Sheen, Kevin Bacon',\n",
       "       'Bruce Lee, John Saxon, Jim Kelly',\n",
       "       'Andie MacDowell, Julianne Moore, Tim Robbins',\n",
       "       'John Lennon, Paul McCartney, George Harrison',\n",
       "       'Tom Cruise, Ken Watanabe, Billy Connolly',\n",
       "       'Peter Dinklage, Patricia Clarkson, Bobby Cannavale',\n",
       "       'Jesse Eisenberg, Emma Stone, Woody Harrelson',\n",
       "       'Kang-ho Song, Ha-kyun Shin, Doona Bae',\n",
       "       'Steve Carell, Jason Segel, Russell Brand',\n",
       "       'Alan Ladd, Jean Arthur, Van Heflin',\n",
       "       'Walter Pidgeon, Anne Francis, Leslie Nielsen',\n",
       "       'Leonardo DiCaprio, Kate Winslet, Billy Zane',\n",
       "       'Morgan Freeman, Ed Harris, Casey Affleck',\n",
       "       'Thierry Lhermitte, Jacques Villeret, Francis Huster',\n",
       "       'Gary Oldman, Keri Russell, Andy Serkis',\n",
       "       'Edward Norton, Barry Pepper, Philip Seymour Hoffman',\n",
       "       'Cate Blanchett, Matt Damon, Liam Neeson',\n",
       "       'Geoffrey Rush, Armin Mueller-Stahl, Justin Braine',\n",
       "       'Quinton Aaron, Sandra Bullock, Tim McGraw',\n",
       "       'Jake Gyllenhaal, Heath Ledger, Michelle Williams',\n",
       "       'Tom Hanks, Helen Hunt, Paul Sanchez',\n",
       "       'Denzel Washington, Angela Bassett, Delroy Lindo',\n",
       "       'Alexandra Dahlstr\\\\xf6m, Rebecka Liljeberg, Erica Carlson',\n",
       "       'Andrew Garfield, Peter Mullan, Shaun Evans',\n",
       "       'Michael Beck, James Remar, Dorsey Wright',\n",
       "       'Richard Dreyfuss, Fran\\\\xe7ois Truffaut, Teri Garr',\n",
       "       'Scarlett Johansson, Jonathan Rhys Meyers, Emily Mortimer',\n",
       "       'Denzel Washington, Ethan Hawke, Scott Glenn',\n",
       "       'Ashton Kutcher, Amy Smart, Melora Walters',\n",
       "       'Ron Perlman, Daniel Emilfork, Judith Vittet',\n",
       "       'Jamie Bell, Julie Walters, Jean Heywood',\n",
       "       'Hugh Grant, Martine McCutcheon, Liam Neeson',\n",
       "       'Zero Mostel, Gene Wilder, Dick Shawn',\n",
       "       'Richard Jenkins, Haaz Sleiman, Danai Gurira',\n",
       "       'Tom Hanks, Denzel Washington, Roberta Maxwell',\n",
       "       'Emma Thompson, Kate Winslet, James Fleet',\n",
       "       'Zbigniew Zamachowski, Julie Delpy, Janusz Gajos',\n",
       "       'Toni Servillo, Carlo Verdone, Sabrina Ferilli',\n",
       "       'Richard Gere, Laura Linney, Edward Norton',\n",
       "       'Richard Burton, Clint Eastwood, Mary Ure',\n",
       "       'Jason London, Wiley Wiggins, Matthew McConaughey',\n",
       "       'John Getz, Frances McDormand, Dan Hedaya',\n",
       "       'Thomas Turgoose, Stephen Graham, Jo Hartley',\n",
       "       'Jet Li, Li Sun, Yong Dong',\n",
       "       'Glenn Close, John Malkovich, Michelle Pfeiffer',\n",
       "       'Cary Elwes, Leigh Whannell, Danny Glover',\n",
       "       'Adriana Caselotti, Harry Stockwell, Lucille La Verne',\n",
       "       'Dakota Fanning, Teri Hatcher, John Hodgman',\n",
       "       'Jennifer Lawrence, Josh Hutcherson, Liam Hemsworth',\n",
       "       'Meryl Streep, Kevin Kline, Peter MacNicol',\n",
       "       'Marion Cotillard, Sylvie Testud, Pascal Greggory',\n",
       "       'Hayden Christensen, Natalie Portman, Ewan McGregor',\n",
       "       'Jeff Bridges, Matt Damon, Hailee Steinfeld',\n",
       "       'Griffin Dunne, Rosanna Arquette, Verna Bloom',\n",
       "       'Kristen Bell, Idina Menzel, Jonathan Groff',\n",
       "       'James Mason, Shelley Winters, Sue Lyon',\n",
       "       'Naomi Watts, Viggo Mortensen, Armin Mueller-Stahl',\n",
       "       'Owen Wilson, Rachel McAdams, Kathy Bates',\n",
       "       'Michael Caine, Dave Goelz, Steve Whitmire',\n",
       "       'Bob Hoskins, Christopher Lloyd, Joanna Cassidy',\n",
       "       'Yeong-ae Lee, Min-sik Choi, Shi-hoo Kim',\n",
       "       'Kurt Russell, Rose McGowan, Danny Trejo',\n",
       "       'Mikael Persbrandt, Trine Dyrholm, Markus Rygaard',\n",
       "       'David Hemmings, Vanessa Redgrave, Sarah Miles',\n",
       "       'Bridgit Mendler, Amy Poehler, Will Arnett',\n",
       "       'Robert Downey Jr., Val Kilmer, Michelle Monaghan',\n",
       "       'Bill Pullman, Patricia Arquette, John Roselius',\n",
       "       'Jake Gyllenhaal, Robert Downey Jr., Mark Ruffalo',\n",
       "       'Hugh Jackman, Russell Crowe, Anne Hathaway',\n",
       "       'Nicole Kidman, Ewan McGregor, John Leguizamo',\n",
       "       'Keisha Castle-Hughes, Rawiri Paratene, Vicky Haughton',\n",
       "       'Jake Gyllenhaal, Michael Pe\\\\xf1a, Anna Kendrick',\n",
       "       'Judi Dench, Steve Coogan, Sophie Kennedy Clark',\n",
       "       'Brad Pitt, Shia LaBeouf, Logan Lerman',\n",
       "       'Jean-Marc Barr, Jean Reno, Rosanna Arquette',\n",
       "       'Sylvester Stallone, Brian Dennehy, Richard Crenna',\n",
       "       'Tom Cruise, Colin Farrell, Samantha Morton',\n",
       "       'Ingrid Bergman, Gregory Peck, Michael Chekhov',\n",
       "       'Edward Woodward, Christopher Lee, Diane Cilento',\n",
       "       'Will Smith, Rosario Dawson, Woody Harrelson',\n",
       "       'Brad Davis, Irene Miracle, Bo Hopkins',\n",
       "       'Clint Eastwood, Telly Savalas, Don Rickles',\n",
       "       'Donald Sutherland, Elliott Gould, Tom Skerritt',\n",
       "       'Tim Robbins, Greta Scacchi, Fred Ward',\n",
       "       'Michael Douglas, Benicio Del Toro, Catherine Zeta-Jones',\n",
       "       'Maribel Verd\\\\xfa, Gael Garc\\\\xeda Bernal, Daniel Gim\\\\xe9nez Cacho',\n",
       "       'Will Ferrell, Emma Thompson, Dustin Hoffman',\n",
       "       'Denzel Washington, Clive Owen, Jodie Foster',\n",
       "       'James Franco, Amber Tamblyn, Kate Mara',\n",
       "       'Bruce Willis, Milla Jovovich, Gary Oldman',\n",
       "       'Sean Penn, Josh Brolin, Emile Hirsch',\n",
       "       'David Alan Basche, Olivia Thirlby, Liza Col\\\\xf3n-Zayas',\n",
       "       'Christian Bale, Ni Ni, Xinyi Zhang',\n",
       "       'Bela Lugosi, Helen Chandler, David Manners',\n",
       "       'Clint Eastwood, Verna Bloom, Marianna Hill',\n",
       "       'Sean Penn, Michelle Pfeiffer, Dakota Fanning',\n",
       "       'Kathy Bates, Jessica Tandy, Mary Stuart Masterson',\n",
       "       'Jackie Earle Haley, Patrick Wilson, Carla Gugino',\n",
       "       'Cillian Murphy, Naomie Harris, Christopher Eccleston',\n",
       "       'Edward Norton, Jessica Biel, Paul Giamatti',\n",
       "       'Michael Cera, Jonah Hill, Christopher Mintz-Plasse',\n",
       "       'Al Pacino, Diane Keaton, Andy Garcia',\n",
       "       'Gene Hackman, Gwyneth Paltrow, Anjelica Huston',\n",
       "       'Phil Harris, Sebastian Cabot, Louis Prima',\n",
       "       'Aaron Eckhart, Cameron Bright, Maria Bello',\n",
       "       'Beno\\\\xeet Poelvoorde, Jacqueline Poelvoorde-Pappaert, Nelly Pappaert',\n",
       "       'Tom Cruise, Jack Nicholson, Demi Moore',\n",
       "       'Jackie Chan, Ho-Sung Pak, Lung Ti',\n",
       "       'Khalid Abdalla, Ahmad Khan Mahmoodzada, Atossa Leoni',\n",
       "       'Billy Crystal, Meg Ryan, Carrie Fisher',\n",
       "       'Eric Bana, Daniel Craig, Marie-Jos\\\\xe9e Croze',\n",
       "       'Jennifer Connelly, Ben Kingsley, Ron Eldard',\n",
       "       'Mel Gibson, Danny Glover, Gary Busey',\n",
       "       'John Belushi, Karen Allen, Tom Hulce',\n",
       "       'Nicolas Cage, Ethan Hawke, Jared Leto',\n",
       "       'Johnny Depp, Pen\\\\xe9lope Cruz, Franka Potente',\n",
       "       'Robert Downey Jr., Jude Law, Rachel McAdams',\n",
       "       'Antonio Banderas, Elena Anaya, Jan Cornet',\n",
       "       'Brandon Lee, Michael Wincott, Rochelle Davis',\n",
       "       'Natalie Wood, George Chakiris, Richard Beymer',\n",
       "       'Jim Caviezel, Sean Penn, Nick Nolte',\n",
       "       'Christian Bale, Justin Theroux, Josh Lucas',\n",
       "       'Takeshi Kitano, Tadanobu Asano, Yui Natsukawa',\n",
       "       'Willem Dafoe, Harvey Keitel, Barbara Hershey',\n",
       "       'Leslie Nielsen, Priscilla Presley, O.J. Simpson',\n",
       "       'Nicole Kidman, Christopher Eccleston, Fionnula Flanagan',\n",
       "       'Peter Sellers, Claudine Longet, Natalia Borisova',\n",
       "       'Bruce Campbell, Embeth Davidtz, Marcus Gilbert',\n",
       "       'Jeremy Renner, Anthony Mackie, Brian Geraghty',\n",
       "       'Iko Uwais, Ananda George, Ray Sahetapy',\n",
       "       'Pen\\\\xe9lope Cruz, Carmen Maura, Lola Due\\\\xf1as',\n",
       "       'Jeremy Theobald, Alex Haw, Lucy Russell',\n",
       "       'Jack Black, Ian McShane, Angelina Jolie',\n",
       "       'Mel Gibson, Bruce Spence, Michael Preston',\n",
       "       'K\\\\xf4ji Yakusho, Takayuki Yamada, Y\\\\xfbsuke Iseya',\n",
       "       'Billy Bob Thornton, Frances McDormand, Michael Badalucco',\n",
       "       'Karl Markovics, August Diehl, Devid Striesow',\n",
       "       'Sean Connery, Alec Baldwin, Scott Glenn',\n",
       "       'Mark Wahlberg, Taylor Kitsch, Emile Hirsch',\n",
       "       'John Cleese, Jamie Lee Curtis, Kevin Kline',\n",
       "       'Naomi Watts, Ewan McGregor, Tom Holland',\n",
       "       'Zach Braff, Peter Sarsgaard, Natalie Portman',\n",
       "       'Clint Eastwood, Patrick McGoohan, Roberts Blossom',\n",
       "       'Tom Hanks, Bill Paxton, Kevin Bacon',\n",
       "       'Tony Chiu Wai Leung, Wei Tang, Joan Chen',\n",
       "       'David Oyelowo, Carmen Ejogo, Tim Roth',\n",
       "       'Susanne Lothar, Ulrich M\\\\xfche, Arno Frisch',\n",
       "       'Ed Harris, Mary Elizabeth Mastrantonio, Michael Biehn',\n",
       "       'Brian Bedford, Phil Harris, Roger Miller',\n",
       "       'Jude Law, Ed Harris, Joseph Fiennes',\n",
       "       'Michael Douglas, Robert Duvall, Barbara Hershey',\n",
       "       'Kate Winslet, Jennifer Connelly, Patrick Wilson',\n",
       "       'Stuart Graham, Laine Megaw, Brian Milligan',\n",
       "       'Harrison Ford, Kate Capshaw, Jonathan Ke Quan',\n",
       "       'Donnie Yen, Xiaoming Huang, Sammo Kam-Bo Hung',\n",
       "       'Jodi Benson, Samuel E. Wright, Rene Auberjonois',\n",
       "       'Spencer Tracy, Milton Berle, Ethel Merman',\n",
       "       'Kate Winslet, Ralph Fiennes, Bruno Ganz',\n",
       "       'Gregory Peck, Lee Remick, Harvey Stephens',\n",
       "       'Alicia Vikander, Mads Mikkelsen, Mikkel Boe F\\\\xf8lsgaard',\n",
       "       'Timothy Balme, Diana Pe\\\\xf1alver, Elizabeth Moody',\n",
       "       'Haley Joel Osment, Michael Caine, Robert Duvall',\n",
       "       'Jason Bateman, Jonah Bobo, Haley Ramm',\n",
       "       'Colin Firth, Julianne Moore, Matthew Goode',\n",
       "       'Gene Hackman, Barbara Hershey, Dennis Hopper',\n",
       "       'Brad Pitt, Robin Wright, Jonah Hill',\n",
       "       'Sophie N\\\\xe9lisse, Geoffrey Rush, Emily Watson',\n",
       "       'Bruce Willis, Jeremy Irons, Samuel L. Jackson',\n",
       "       'Brad Pitt, Tom Cruise, Antonio Banderas',\n",
       "       'Robert De Niro, Charles Grodin, Yaphet Kotto',\n",
       "       'David Naughton, Jenny Agutter, Joe Belcher',\n",
       "       'Denzel Washington, Forest Whitaker, Kimberly Elise',\n",
       "       'Tyler Labine, Alan Tudyk, Katrina Bowden',\n",
       "       'Susan Sarandon, Sean Penn, Robert Prosky',\n",
       "       'Holly Hunter, Harvey Keitel, Sam Neill',\n",
       "       'Ben Affleck, Rebecca Hall, Jon Hamm',\n",
       "       'James Franco, Andy Serkis, Freida Pinto',\n",
       "       'Hilary Swank, Chlo\\\\xeb Sevigny, Peter Sarsgaard',\n",
       "       'Denis Leary, John Leguizamo, Ray Romano',\n",
       "       'John Malkovich, Gary Sinise, Ray Walston',\n",
       "       'Paul Giamatti, Thomas Haden Church, Virginia Madsen',\n",
       "       'John Cusack, Iben Hjejle, Todd Louiso',\n",
       "       'John Cleese, Terry Gilliam, Eric Idle',\n",
       "       'Asa Butterfield, Chlo\\\\xeb Grace Moretz, Christopher Lee',\n",
       "       'Nicolas Cage, Elisabeth Shue, Julian Sands',\n",
       "       'Bruce Campbell, Ellen Sandweiss, Richard DeManincor',\n",
       "       'Tom Cruise, Jamie Foxx, Jada Pinkett Smith',\n",
       "       'Steve Martin, John Candy, Laila Robins',\n",
       "       'Aksel Hennie, Synn\\\\xf8ve Macody Lund, Nikolaj Coster-Walda]',\n",
       "       'Kevin Costner, James Earl Jones, Ray Liotta',\n",
       "       'Michael Keaton, Jack Nicholson, Kim Basinger',\n",
       "       'Fran\\\\xe7ois Cluzet, Marie-Jos\\\\xe9e Croze, Andr\\\\xe9 Dussollier',\n",
       "       'Forest Whitaker, Henry Silva, John Tormey',\n",
       "       'Robert Downey Jr., Geraldine Chaplin, Paul Rhys',\n",
       "       'Elisabeth Harnois, Jesse McCartney, Margo Harshman',\n",
       "       'Ellen Page, Michael Cera, Jennifer Garner',\n",
       "       'Brad Pitt, Casey Affleck, Sam Shepard',\n",
       "       'Jeff Bridges, Robin Williams, Adam Bryant',\n",
       "       'Ziyi Zhang, Takeshi Kaneshiro, Andy La]',\n",
       "       'Meryl Streep, Nicole Kidman, Julianne Moore',\n",
       "       'Colm Meaney, Henry Goodman, David Roper',\n",
       "       'Patrick Stewart, Jonathan Frakes, Brent Spiner',\n",
       "       'Robert Redford, Robert Duvall, Glenn Close',\n",
       "       'Christian Bale, Sean Bean, Emily Watson',\n",
       "       'Freddie Highmore, Keri Russell, Jonathan Rhys Meyers',\n",
       "       'Emma Thompson, Tom Hanks, Annie Rose Buckley',\n",
       "       'Denzel Washington, Vicellous Reon Shannon, Deborah Kara Unger',\n",
       "       'Tim Robbins, Elizabeth Pe\\\\xf1a, Danny Aiello',\n",
       "       'Peter Sallis, Helena Bonham Carter, Ralph Fiennes',\n",
       "       'Chevy Chase, u\"Beverly D\\'Angelo\", Juliette Lewis',\n",
       "       'David Strathairn, George Clooney, Patricia Clarkson',\n",
       "       'Dustin Hoffman, Susan George, Peter Vaughan',\n",
       "       'Chadwick Boseman, T.R. Knight, Harrison Ford',\n",
       "       'Sean Astin, Jon Favrea, Ned Beatty',\n",
       "       'Robert De Niro, Kevin Bacon, Brad Pitt',\n",
       "       'Cillian Murphy, Padraic Delaney, Liam Cunningham',\n",
       "       'Leonardo DiCaprio, Cameron Diaz, Daniel Day-Lewis',\n",
       "       'Cate Blanchett, Geoffrey Rush, Christopher Eccleston',\n",
       "       'Elijah Wood, Charlie Hunnam, Claire Forlani',\n",
       "       'Adam Sandler, Don Cheadle, Jada Pinkett Smith',\n",
       "       'Peter Weller, Nancy Allen, u\"Dan O\\'Herlihy\"]',\n",
       "       'Kevin Spacey, Kate Winslet, Laura Linney',\n",
       "       'Hayden Christensen, Kevin Kline, Kristin Scott Thomas',\n",
       "       'Steve Carell, Kristen Wiig, Benjamin Bratt',\n",
       "       'Pam Grier, Samuel L. Jackson, Robert Forster',\n",
       "       'Tyrin Turner, Larenz Tate, June Kyoto L]',\n",
       "       'Fran\\\\xe7ois B\\\\xe9gaudea, Agame Malembo-Emene, Ang\\\\xe9lica Sancio',\n",
       "       'John Cusack, Dianne Wiest, Jennifer Tilly',\n",
       "       'Paul Giamatti, Shari Springer Berman, Harvey Pekar',\n",
       "       'Ben Whishaw, Dustin Hoffman, Alan Rickman',\n",
       "       'Tom Hanks, Halle Berry, Hugh Grant',\n",
       "       'Dustin Hoffman, Laurence Olivier, Roy Scheider',\n",
       "       'Dickie Jones, Christian Rub, Mel Blanc',\n",
       "       'Naomi Watts, Edward Norton, Liev Schreiber',\n",
       "       'Bill Paxton, Billy Bob Thornton, Bridget Fonda',\n",
       "       'Patrick Wilson, Vera Farmiga, Ron Livingston',\n",
       "       'James Stewart, Doris Day, Brenda de Banzie',\n",
       "       'Ralph Fiennes, John Turturro, Rob Morrow',\n",
       "       'Richard Dreyfuss, Ron Howard, Paul Le Mat',\n",
       "       'Clint Eastwood, Meryl Streep, Annie Corley',\n",
       "       'Mel Gibson, Mark Lee, Bill Kerr',\n",
       "       'Jean-Claude Donda, Eilidh Rankin, Duncan MacNeil',\n",
       "       'Kurt Russell, Patricia Clarkson, Nathan West',\n",
       "       'Catalina Sandino Moreno, Guilied Lopez, Orlando Tob\\\\xf3n',\n",
       "       'Michael Cera, Mary Elizabeth Winstead, Kieran Culkin',\n",
       "       'Tobey Maguire, Jeff Daniels, Joan Allen',\n",
       "       'Robert Downey Jr., Jude Law, Jared Harris',\n",
       "       'Meryl Streep, Philip Seymour Hoffman, Amy Adams',\n",
       "       'Jeff Goldblum, Geena Davis, John Getz',\n",
       "       'Bel\\\\xe9n Rueda, Fernando Cayo, Roger Pr\\\\xedncep',\n",
       "       'Monica Bellucci, Giuseppe Sulfaro, Luciano Federico',\n",
       "       'Robert Redford, Faye Dunaway, Cliff Robertson',\n",
       "       'Manuela Velasco, Ferran Terraza, Jorge-Yamam Serrano',\n",
       "       'Kevin Costner, Clint Eastwood, Laura Dern',\n",
       "       'Cary Grant, Grace Kelly, Jessie Royce Landis',\n",
       "       'Fred Willard, Eugene Levy, u\"Catherine O\\'Hara\"]',\n",
       "       'Elijah Wood, Eugene Hutz, Boris Leskin',\n",
       "       'Heather Langenkamp, Johnny Depp, Robert Englund',\n",
       "       'Kevin Kline, Joan Allen, Sigourney Weaver',\n",
       "       'Patrick Stewart, Hugh Jackman, Halle Berry',\n",
       "       'Tilda Swinton, John C. Reilly, Ezra Miller',\n",
       "       'Stephen Dorff, Marisol Nichols, Vincent Miller',\n",
       "       'Julianne Moore, Alec Baldwin, Kristen Stewart',\n",
       "       'Marion Cotillard, Matthias Schoenaerts, Armand Verdure',\n",
       "       'Hilary Swank, Imelda Staunton, Patrick Dempsey',\n",
       "       'Brad Pitt, Anthony Hopkins, Aidan Quinn',\n",
       "       'Vincent Gallo, Christina Ricci, Ben Gazzara',\n",
       "       'Ralph Fiennes, Rachel Weisz, Hubert Kound\\\\xe9',\n",
       "       'Joe Pesci, Marisa Tomei, Ralph Macchio',\n",
       "       'Marilyn Burns, Edwin Neal, Allen Danziger',\n",
       "       'Ming-Na Wen, Eddie Murphy, BD Wong',\n",
       "       'Viggo Mortensen, Maria Bello, Ed Harris',\n",
       "       'Kevin Costner, Robert Duvall, Diego Luna',\n",
       "       'Arnold Schwarzenegger, Sharon Stone, Michael Ironside',\n",
       "       'Sean Gullette, Mark Margolis, Ben Shenkman',\n",
       "       'Marisa Paredes, Eduardo Noriega, Federico Luppi',\n",
       "       'Leonardo DiCaprio, Cate Blanchett, Kate Beckinsale',\n",
       "       'Keanu Reeves, Al Pacino, Charlize Theron',\n",
       "       'Hugo Weaving, Guy Pearce, Terence Stamp',\n",
       "       'Michael B. Jordan, Melonie Diaz, Octavia Spencer',\n",
       "       'Tom Wilkinson, Sissy Spacek, Nick Stahl',\n",
       "       'Jake Gyllenhaal, Michelle Monaghan, Vera Farmiga',\n",
       "       'Javier Bardem, Maricel \\\\xc1lvarez, Hanaa Bouchaib',\n",
       "       'Sean Connery, Robert Shaw, Lotte Lenya',\n",
       "       'Brendan Gleeson, u\"Chris O\\'Dowd\", Kelly Reilly',\n",
       "       'Robert De Niro, Jeremy Irons, Ray McAnally',\n",
       "       'Tom Hollander, Peter Capaldi, James Gandolfini',\n",
       "       'Tommy Lee Jones, Barry Pepper, Dwight Yoakam',\n",
       "       'Brad Pitt, Cate Blanchett, Gael Garc\\\\xeda Bernal',\n",
       "       'Jon Finch, Barry Foster, Alec McCowen',\n",
       "       'Melanie Lynskey, Kate Winslet, Sarah Peirse',\n",
       "       'Johnny Depp, Helena Bonham Carter, Alan Rickman',\n",
       "       'Gary Oldman, Winona Ryder, Anthony Hopkins',\n",
       "       'Joseph Gordon-Levitt, Bruce Willis, Emily Blunt',\n",
       "       'Ray Winstone, Guy Pearce, Emily Watson',\n",
       "       'Steve McQueen, Jacqueline Bisset, Robert Vaughn',\n",
       "       'Daniel Radcliffe, Rupert Grint, Richard Harris',\n",
       "       'Tony Chiu Wai Leung, Ziyi Zhang, Faye Wong',\n",
       "       'Felicity Huffman, Kevin Zegers, Fionnula Flanagan',\n",
       "       'Harvey Keitel, William Hurt, Giancarlo Esposito',\n",
       "       'Jessica Harper, Stefania Casini, Flavio Bucci',\n",
       "       'Robert Downey Jr., Robert Duvall, Vera Farmiga',\n",
       "       'Gael Garc\\\\xeda Bernal, Fele Mart\\\\xednez, Javier C\\\\xe1mara',\n",
       "       'George Clooney, Vera Farmiga, Anna Kendrick',\n",
       "       'Keira Knightley, Mark Ruffalo, Adam Levine',\n",
       "       'Paul Walker, Cameron Bright, Chazz Palminteri',\n",
       "       'Steve Buscemi, Thora Birch, Scarlett Johansson',\n",
       "       'Harrison Ford, Kelly McGillis, Lukas Haas',\n",
       "       'Eddie Murphy, Dan Aykroyd, Ralph Bellamy',\n",
       "       'Matthew McConaughey, Tye Sheridan, Jacob Lofland',\n",
       "       'Evan Rachel Wood, Jim Sturgess, Joe Anderson',\n",
       "       'Liam Neeson, Geoffrey Rush, Uma Thurman',\n",
       "       'Cate Blanchett, Judi Dench, Andrew Simpson',\n",
       "       'Oscar Isaac, Carey Mulligan, John Goodman',\n",
       "       'Joseph Gordon-Levitt, Lukas Haas, Emilie de Ravin',\n",
       "       'u\"Brian O\\'Halloran\", Jeff Anderson, Rosario Dawson',\n",
       "       'John Cusack, Ione Skye, John Mahoney',\n",
       "       'Jim Carrey, Danny DeVito, Gerry Becker',\n",
       "       'Robert De Niro, Harvey Keitel, David Proval',\n",
       "       'Alec Baldwin, Geena Davis, Michael Keaton',\n",
       "       'Steve Carell, Ryan Gosling, Julianne Moore',\n",
       "       'Nigel Terry, Helen Mirren, Nicholas Clay',\n",
       "       'John Wayne, Kim Darby, Glen Campbell',\n",
       "       'David Bowie, Jennifer Connelly, Toby Froud',\n",
       "       'Kathryn Beaumont, Ed Wynn, Richard Haydn',\n",
       "       'Ethan Hawke, Sarah Snook, Noah Taylor',\n",
       "       'Kenneth Branagh, Emma Thompson, Keanu Reeves',\n",
       "       'Sean Connery, u\"Ryan O\\'Neal\", Michael Caine',\n",
       "       'Nicolas Cage, Holly Hunter, Trey Wilson',\n",
       "       'Jack Nicholson, Morgan Freeman, Sean Hayes',\n",
       "       'Shirley MacLaine, Debra Winger, Jack Nicholson',\n",
       "       'Michael Shannon, Jessica Chastain, Shea Whigham',\n",
       "       'Julianne Moore, Dennis Quaid, Dennis Haysbert',\n",
       "       'Jack Nance, Charlotte Stewart, Allen Joseph',\n",
       "       'Greta Gerwig, Mickey Sumner, Adam Driver',\n",
       "       'Macaulay Culkin, Joe Pesci, Daniel Stern',\n",
       "       'Jennifer Tilly, Gina Gershon, Joe Pantoliano',\n",
       "       'Johnny Depp, Christina Ricci, Miranda Richardson',\n",
       "       'Philip Seymour Hoffman, Bill Nighy, Nick Frost',\n",
       "       'Noah Hathaway, Barret Oliver, Tami Stronach',\n",
       "       'Patrick Stewart, Hugh Jackman, Ian McKellen',\n",
       "       'Jessica Chastain, Joel Edgerton, Chris Pratt',\n",
       "       'Woody Allen, Diane Keaton, Jerry Adler',\n",
       "       'Chevy Chase, u\"Beverly D\\'Angelo\", Imogene Coca',\n",
       "       'Cameron Diaz, Abigail Breslin, Alec Baldwin',\n",
       "       'Woody Allen, Judy Davis, Julia Louis-Dreyfus',\n",
       "       'Steve Carell, Toni Collette, Allison Janney',\n",
       "       'Philip Seymour Hoffman, Clifton Collins Jr., Catherine Keener',\n",
       "       'Morgan Freeman, Jessica Tandy, Dan Aykroyd',\n",
       "       'Anne Parillaud, Marc Duret, Patrick Fontana',\n",
       "       'Daniel Day-Lewis, Sally Field, David Strathairn',\n",
       "       'Bradley Cooper, Anna Friel, Abbie Cornish',\n",
       "       'Dan Castellaneta, Julie Kavner, Nancy Cartwright',\n",
       "       'Sean Connery, Nicolas Cage, Ed Harris',\n",
       "       'Ralph Fiennes, Juliette Binoche, Willem Dafoe',\n",
       "       'Gerard Butler, Jamie Foxx, Leslie Bibb',\n",
       "       'Michael Douglas, Tobey Maguire, Frances McDormand',\n",
       "       'Matthew Macfadyen, Peter Dinklage, Ewen Bremner',\n",
       "       'Ryan Gosling, Michelle Williams, John Doman',\n",
       "       'Tobey Maguire, Charlize Theron, Michael Caine',\n",
       "       'Dustin Hoffman, Jessica Lange, Teri Garr',\n",
       "       'Michael J. Fox, Christopher Lloyd, Mary Steenburgen',\n",
       "       'Russell Crowe, Paul Bettany, Billy Boyd',\n",
       "       'JoBeth Williams, u\"Heather O\\'Rourke\", Craig T. Nelson',\n",
       "       'Charlie Sheen, Michael Douglas, Tamara Tunie'], dtype=object)"
      ]
     },
     "execution_count": 232,
     "metadata": {},
     "output_type": "execute_result"
    }
   ],
   "source": [
    "#Taking out comma separator\n",
    "movies.actors_list.replace('\\',', ',', regex=True, inplace=True)\n",
    "movies.actors_list.unique()"
   ]
  },
  {
   "cell_type": "code",
   "execution_count": 233,
   "metadata": {},
   "outputs": [
    {
     "data": {
      "text/html": [
       "<div>\n",
       "<style scoped>\n",
       "    .dataframe tbody tr th:only-of-type {\n",
       "        vertical-align: middle;\n",
       "    }\n",
       "\n",
       "    .dataframe tbody tr th {\n",
       "        vertical-align: top;\n",
       "    }\n",
       "\n",
       "    .dataframe thead th {\n",
       "        text-align: right;\n",
       "    }\n",
       "</style>\n",
       "<table border=\"1\" class=\"dataframe\">\n",
       "  <thead>\n",
       "    <tr style=\"text-align: right;\">\n",
       "      <th></th>\n",
       "      <th>star_rating</th>\n",
       "      <th>title</th>\n",
       "      <th>content_rating</th>\n",
       "      <th>genre</th>\n",
       "      <th>duration</th>\n",
       "      <th>actors_list</th>\n",
       "      <th>actor_1</th>\n",
       "      <th>actor_2</th>\n",
       "      <th>actor_3</th>\n",
       "    </tr>\n",
       "  </thead>\n",
       "  <tbody>\n",
       "    <tr>\n",
       "      <th>0</th>\n",
       "      <td>9.3</td>\n",
       "      <td>The Shawshank Redemption</td>\n",
       "      <td>R</td>\n",
       "      <td>Crime</td>\n",
       "      <td>142</td>\n",
       "      <td>Tim Robbins, Morgan Freeman, Bob Gunton</td>\n",
       "      <td>Tim Robbins</td>\n",
       "      <td>Morgan Freeman</td>\n",
       "      <td>Bob Gunton</td>\n",
       "    </tr>\n",
       "    <tr>\n",
       "      <th>1</th>\n",
       "      <td>9.2</td>\n",
       "      <td>The Godfather</td>\n",
       "      <td>R</td>\n",
       "      <td>Crime</td>\n",
       "      <td>175</td>\n",
       "      <td>Marlon Brando, Al Pacino, James Caan</td>\n",
       "      <td>Marlon Brando</td>\n",
       "      <td>Al Pacino</td>\n",
       "      <td>James Caan</td>\n",
       "    </tr>\n",
       "    <tr>\n",
       "      <th>2</th>\n",
       "      <td>9.1</td>\n",
       "      <td>The Godfather: Part II</td>\n",
       "      <td>R</td>\n",
       "      <td>Crime</td>\n",
       "      <td>200</td>\n",
       "      <td>Al Pacino, Robert De Niro, Robert Duvall</td>\n",
       "      <td>Al Pacino</td>\n",
       "      <td>Robert De Niro</td>\n",
       "      <td>Robert Duvall</td>\n",
       "    </tr>\n",
       "    <tr>\n",
       "      <th>3</th>\n",
       "      <td>9.0</td>\n",
       "      <td>The Dark Knight</td>\n",
       "      <td>PG-13</td>\n",
       "      <td>Action</td>\n",
       "      <td>152</td>\n",
       "      <td>Christian Bale, Heath Ledger, Aaron Eckhart</td>\n",
       "      <td>Christian Bale</td>\n",
       "      <td>Heath Ledger</td>\n",
       "      <td>Aaron Eckhart</td>\n",
       "    </tr>\n",
       "    <tr>\n",
       "      <th>4</th>\n",
       "      <td>8.9</td>\n",
       "      <td>Pulp Fiction</td>\n",
       "      <td>R</td>\n",
       "      <td>Crime</td>\n",
       "      <td>154</td>\n",
       "      <td>John Travolta, Uma Thurman, Samuel L. Jackson</td>\n",
       "      <td>John Travolta</td>\n",
       "      <td>Uma Thurman</td>\n",
       "      <td>Samuel L. Jackson</td>\n",
       "    </tr>\n",
       "  </tbody>\n",
       "</table>\n",
       "</div>"
      ],
      "text/plain": [
       "   star_rating                     title content_rating   genre  duration  \\\n",
       "0          9.3  The Shawshank Redemption              R   Crime       142   \n",
       "1          9.2             The Godfather              R   Crime       175   \n",
       "2          9.1    The Godfather: Part II              R   Crime       200   \n",
       "3          9.0           The Dark Knight          PG-13  Action       152   \n",
       "4          8.9              Pulp Fiction              R   Crime       154   \n",
       "\n",
       "                                     actors_list         actor_1  \\\n",
       "0        Tim Robbins, Morgan Freeman, Bob Gunton     Tim Robbins   \n",
       "1           Marlon Brando, Al Pacino, James Caan   Marlon Brando   \n",
       "2       Al Pacino, Robert De Niro, Robert Duvall       Al Pacino   \n",
       "3    Christian Bale, Heath Ledger, Aaron Eckhart  Christian Bale   \n",
       "4  John Travolta, Uma Thurman, Samuel L. Jackson   John Travolta   \n",
       "\n",
       "           actor_2             actor_3  \n",
       "0   Morgan Freeman          Bob Gunton  \n",
       "1        Al Pacino          James Caan  \n",
       "2   Robert De Niro       Robert Duvall  \n",
       "3     Heath Ledger       Aaron Eckhart  \n",
       "4      Uma Thurman   Samuel L. Jackson  "
      ]
     },
     "execution_count": 233,
     "metadata": {},
     "output_type": "execute_result"
    }
   ],
   "source": [
    "#Split the actors_list column into three columns each with one actor\n",
    "actors=pd.DataFrame(movies.actors_list.str.split(',').tolist(), columns = ['actor_1','actor_2','actor_3'])\n",
    "#actors.head()\n",
    "movies=pd.concat([movies, actors], axis=1)\n",
    "movies.head()"
   ]
  },
  {
   "cell_type": "code",
   "execution_count": 255,
   "metadata": {},
   "outputs": [
    {
     "data": {
      "text/html": [
       "<div>\n",
       "<style scoped>\n",
       "    .dataframe tbody tr th:only-of-type {\n",
       "        vertical-align: middle;\n",
       "    }\n",
       "\n",
       "    .dataframe tbody tr th {\n",
       "        vertical-align: top;\n",
       "    }\n",
       "\n",
       "    .dataframe thead th {\n",
       "        text-align: right;\n",
       "    }\n",
       "</style>\n",
       "<table border=\"1\" class=\"dataframe\">\n",
       "  <thead>\n",
       "    <tr style=\"text-align: right;\">\n",
       "      <th></th>\n",
       "      <th>actor_1</th>\n",
       "      <th>actor_2</th>\n",
       "      <th>actor_3</th>\n",
       "    </tr>\n",
       "  </thead>\n",
       "  <tbody>\n",
       "    <tr>\n",
       "      <th>Aamir Khan</th>\n",
       "      <td>NaN</td>\n",
       "      <td>1.0</td>\n",
       "      <td>NaN</td>\n",
       "    </tr>\n",
       "    <tr>\n",
       "      <th>Aaron Eckhart</th>\n",
       "      <td>NaN</td>\n",
       "      <td>NaN</td>\n",
       "      <td>1.0</td>\n",
       "    </tr>\n",
       "    <tr>\n",
       "      <th>Abbie Cornish</th>\n",
       "      <td>NaN</td>\n",
       "      <td>NaN</td>\n",
       "      <td>1.0</td>\n",
       "    </tr>\n",
       "    <tr>\n",
       "      <th>Abigail Breslin</th>\n",
       "      <td>NaN</td>\n",
       "      <td>1.0</td>\n",
       "      <td>NaN</td>\n",
       "    </tr>\n",
       "    <tr>\n",
       "      <th>Ad\\xe8le Exarchopoulos</th>\n",
       "      <td>NaN</td>\n",
       "      <td>1.0</td>\n",
       "      <td>NaN</td>\n",
       "    </tr>\n",
       "    <tr>\n",
       "      <th>...</th>\n",
       "      <td>...</td>\n",
       "      <td>...</td>\n",
       "      <td>...</td>\n",
       "    </tr>\n",
       "    <tr>\n",
       "      <th>Zooey Deschanel</th>\n",
       "      <td>1.0</td>\n",
       "      <td>NaN</td>\n",
       "      <td>NaN</td>\n",
       "    </tr>\n",
       "    <tr>\n",
       "      <th>u\"Brian O'Halloran\"</th>\n",
       "      <td>2.0</td>\n",
       "      <td>NaN</td>\n",
       "      <td>NaN</td>\n",
       "    </tr>\n",
       "    <tr>\n",
       "      <th>u\"Paige O'Hara\"</th>\n",
       "      <td>1.0</td>\n",
       "      <td>NaN</td>\n",
       "      <td>NaN</td>\n",
       "    </tr>\n",
       "    <tr>\n",
       "      <th>u\"Peter O'Toole\"</th>\n",
       "      <td>1.0</td>\n",
       "      <td>NaN</td>\n",
       "      <td>NaN</td>\n",
       "    </tr>\n",
       "    <tr>\n",
       "      <th>u\"Ryan O'Neal\"</th>\n",
       "      <td>1.0</td>\n",
       "      <td>NaN</td>\n",
       "      <td>NaN</td>\n",
       "    </tr>\n",
       "  </tbody>\n",
       "</table>\n",
       "<p>2012 rows × 3 columns</p>\n",
       "</div>"
      ],
      "text/plain": [
       "                         actor_1  actor_2  actor_3\n",
       " Aamir Khan                  NaN      1.0      NaN\n",
       " Aaron Eckhart               NaN      NaN      1.0\n",
       " Abbie Cornish               NaN      NaN      1.0\n",
       " Abigail Breslin             NaN      1.0      NaN\n",
       " Ad\\xe8le Exarchopoulos      NaN      1.0      NaN\n",
       "...                          ...      ...      ...\n",
       "Zooey Deschanel              1.0      NaN      NaN\n",
       "u\"Brian O'Halloran\"          2.0      NaN      NaN\n",
       "u\"Paige O'Hara\"              1.0      NaN      NaN\n",
       "u\"Peter O'Toole\"             1.0      NaN      NaN\n",
       "u\"Ryan O'Neal\"               1.0      NaN      NaN\n",
       "\n",
       "[2012 rows x 3 columns]"
      ]
     },
     "execution_count": 255,
     "metadata": {},
     "output_type": "execute_result"
    }
   ],
   "source": [
    "\n",
    "movies[['actor_1', 'actor_2', 'actor_3']].apply(pd.Series.value_counts)"
   ]
  },
  {
   "cell_type": "code",
   "execution_count": 249,
   "metadata": {},
   "outputs": [
    {
     "data": {
      "text/plain": [
       "actor_1          actor_2               actor_3           \n",
       "Tim Robbins       Morgan Freeman        Bob Gunton           9.3\n",
       "Marlon Brando     Al Pacino             James Caan           9.2\n",
       "Al Pacino         Robert De Niro        Robert Duvall        9.1\n",
       "Christian Bale    Heath Ledger          Aaron Eckhart        9.0\n",
       "John Travolta     Uma Thurman           Samuel L. Jackson    8.9\n",
       "                                                            ... \n",
       "Dustin Hoffman    Jessica Lange         Teri Garr            7.4\n",
       "Michael J. Fox    Christopher Lloyd     Mary Steenburgen     7.4\n",
       "Russell Crowe     Paul Bettany          Billy Boyd           7.4\n",
       "JoBeth Williams   u\"Heather O'Rourke\"   Craig T. Nelson      7.4\n",
       "Charlie Sheen     Michael Douglas       Tamara Tunie         7.4\n",
       "Name: star_rating, Length: 969, dtype: float64"
      ]
     },
     "execution_count": 249,
     "metadata": {},
     "output_type": "execute_result"
    }
   ],
   "source": [
    "movies.groupby(['actor_1', 'actor_2', 'actor_3'], sort=False)['star_rating'].mean()"
   ]
  },
  {
   "cell_type": "code",
   "execution_count": 256,
   "metadata": {},
   "outputs": [
    {
     "data": {
      "text/html": [
       "<div>\n",
       "<style scoped>\n",
       "    .dataframe tbody tr th:only-of-type {\n",
       "        vertical-align: middle;\n",
       "    }\n",
       "\n",
       "    .dataframe tbody tr th {\n",
       "        vertical-align: top;\n",
       "    }\n",
       "\n",
       "    .dataframe thead th {\n",
       "        text-align: right;\n",
       "    }\n",
       "</style>\n",
       "<table border=\"1\" class=\"dataframe\">\n",
       "  <thead>\n",
       "    <tr style=\"text-align: right;\">\n",
       "      <th></th>\n",
       "      <th></th>\n",
       "      <th></th>\n",
       "      <th>star_rating</th>\n",
       "      <th>title</th>\n",
       "      <th>content_rating</th>\n",
       "      <th>genre</th>\n",
       "      <th>duration</th>\n",
       "      <th>actors_list</th>\n",
       "    </tr>\n",
       "    <tr>\n",
       "      <th>actor_1</th>\n",
       "      <th>actor_2</th>\n",
       "      <th>actor_3</th>\n",
       "      <th></th>\n",
       "      <th></th>\n",
       "      <th></th>\n",
       "      <th></th>\n",
       "      <th></th>\n",
       "      <th></th>\n",
       "    </tr>\n",
       "  </thead>\n",
       "  <tbody>\n",
       "    <tr>\n",
       "      <th rowspan=\"4\" valign=\"top\">Aamir Khan</th>\n",
       "      <th>Gracy Singh</th>\n",
       "      <th>Rachel Shelley</th>\n",
       "      <td>8.3</td>\n",
       "      <td>Lagaan: Once Upon a Time in India</td>\n",
       "      <td>PG</td>\n",
       "      <td>Adventure</td>\n",
       "      <td>224</td>\n",
       "      <td>Aamir Khan, Gracy Singh, Rachel Shelley</td>\n",
       "    </tr>\n",
       "    <tr>\n",
       "      <th>Madhavan</th>\n",
       "      <th>Mona Singh</th>\n",
       "      <td>8.5</td>\n",
       "      <td>3 Idiots</td>\n",
       "      <td>PG-13</td>\n",
       "      <td>Comedy</td>\n",
       "      <td>170</td>\n",
       "      <td>Aamir Khan, Madhavan, Mona Singh</td>\n",
       "    </tr>\n",
       "    <tr>\n",
       "      <th>Saif Ali Khan</th>\n",
       "      <th>Akshaye Khanna</th>\n",
       "      <td>8.3</td>\n",
       "      <td>Dil Chahta Hai</td>\n",
       "      <td>NOT RATED</td>\n",
       "      <td>Comedy</td>\n",
       "      <td>183</td>\n",
       "      <td>Aamir Khan, Saif Ali Khan, Akshaye Khanna</td>\n",
       "    </tr>\n",
       "    <tr>\n",
       "      <th>Soha Ali Khan</th>\n",
       "      <th>Siddharth</th>\n",
       "      <td>8.4</td>\n",
       "      <td>Rang De Basanti</td>\n",
       "      <td>NOT RATED</td>\n",
       "      <td>Drama</td>\n",
       "      <td>157</td>\n",
       "      <td>Aamir Khan, Soha Ali Khan, Siddharth</td>\n",
       "    </tr>\n",
       "    <tr>\n",
       "      <th>Aaron Eckhart</th>\n",
       "      <th>Cameron Bright</th>\n",
       "      <th>Maria Bello</th>\n",
       "      <td>7.6</td>\n",
       "      <td>Thank You for Smoking</td>\n",
       "      <td>R</td>\n",
       "      <td>Comedy</td>\n",
       "      <td>92</td>\n",
       "      <td>Aaron Eckhart, Cameron Bright, Maria Bello</td>\n",
       "    </tr>\n",
       "    <tr>\n",
       "      <th>...</th>\n",
       "      <th>...</th>\n",
       "      <th>...</th>\n",
       "      <td>...</td>\n",
       "      <td>...</td>\n",
       "      <td>...</td>\n",
       "      <td>...</td>\n",
       "      <td>...</td>\n",
       "      <td>...</td>\n",
       "    </tr>\n",
       "    <tr>\n",
       "      <th rowspan=\"2\" valign=\"top\">u\"Brian O'Halloran\"</th>\n",
       "      <th rowspan=\"2\" valign=\"top\">Jeff Anderson</th>\n",
       "      <th>Marilyn Ghigliotti</th>\n",
       "      <td>7.9</td>\n",
       "      <td>Clerks</td>\n",
       "      <td>R</td>\n",
       "      <td>Comedy</td>\n",
       "      <td>92</td>\n",
       "      <td>u\"Brian O'Halloran\", Jeff Anderson, Marilyn Gh...</td>\n",
       "    </tr>\n",
       "    <tr>\n",
       "      <th>Rosario Dawson</th>\n",
       "      <td>7.5</td>\n",
       "      <td>Clerks II</td>\n",
       "      <td>R</td>\n",
       "      <td>Comedy</td>\n",
       "      <td>97</td>\n",
       "      <td>u\"Brian O'Halloran\", Jeff Anderson, Rosario Da...</td>\n",
       "    </tr>\n",
       "    <tr>\n",
       "      <th>u\"Paige O'Hara\"</th>\n",
       "      <th>Robby Benson</th>\n",
       "      <th>Richard White</th>\n",
       "      <td>8.1</td>\n",
       "      <td>Beauty and the Beast</td>\n",
       "      <td>G</td>\n",
       "      <td>Animation</td>\n",
       "      <td>84</td>\n",
       "      <td>u\"Paige O'Hara\", Robby Benson, Richard White</td>\n",
       "    </tr>\n",
       "    <tr>\n",
       "      <th>u\"Peter O'Toole\"</th>\n",
       "      <th>Alec Guinness</th>\n",
       "      <th>Anthony Quinn</th>\n",
       "      <td>8.4</td>\n",
       "      <td>Lawrence of Arabia</td>\n",
       "      <td>PG</td>\n",
       "      <td>Adventure</td>\n",
       "      <td>216</td>\n",
       "      <td>u\"Peter O'Toole\", Alec Guinness, Anthony Quinn</td>\n",
       "    </tr>\n",
       "    <tr>\n",
       "      <th>u\"Ryan O'Neal\"</th>\n",
       "      <th>Marisa Berenson</th>\n",
       "      <th>Patrick Magee</th>\n",
       "      <td>8.1</td>\n",
       "      <td>Barry Lyndon</td>\n",
       "      <td>PG</td>\n",
       "      <td>Adventure</td>\n",
       "      <td>184</td>\n",
       "      <td>u\"Ryan O'Neal\", Marisa Berenson, Patrick Magee</td>\n",
       "    </tr>\n",
       "  </tbody>\n",
       "</table>\n",
       "<p>969 rows × 6 columns</p>\n",
       "</div>"
      ],
      "text/plain": [
       "                                                          star_rating  \\\n",
       "actor_1             actor_2          actor_3                            \n",
       "Aamir Khan           Gracy Singh      Rachel Shelley              8.3   \n",
       "                     Madhavan         Mona Singh                  8.5   \n",
       "                     Saif Ali Khan    Akshaye Khanna              8.3   \n",
       "                     Soha Ali Khan    Siddharth                   8.4   \n",
       "Aaron Eckhart        Cameron Bright   Maria Bello                 7.6   \n",
       "...                                                               ...   \n",
       "u\"Brian O'Halloran\"  Jeff Anderson    Marilyn Ghigliotti          7.9   \n",
       "                                      Rosario Dawson              7.5   \n",
       "u\"Paige O'Hara\"      Robby Benson     Richard White               8.1   \n",
       "u\"Peter O'Toole\"     Alec Guinness    Anthony Quinn               8.4   \n",
       "u\"Ryan O'Neal\"       Marisa Berenson  Patrick Magee               8.1   \n",
       "\n",
       "                                                                                      title  \\\n",
       "actor_1             actor_2          actor_3                                                  \n",
       "Aamir Khan           Gracy Singh      Rachel Shelley      Lagaan: Once Upon a Time in India   \n",
       "                     Madhavan         Mona Singh                                   3 Idiots   \n",
       "                     Saif Ali Khan    Akshaye Khanna                         Dil Chahta Hai   \n",
       "                     Soha Ali Khan    Siddharth                             Rang De Basanti   \n",
       "Aaron Eckhart        Cameron Bright   Maria Bello                     Thank You for Smoking   \n",
       "...                                                                                     ...   \n",
       "u\"Brian O'Halloran\"  Jeff Anderson    Marilyn Ghigliotti                             Clerks   \n",
       "                                      Rosario Dawson                              Clerks II   \n",
       "u\"Paige O'Hara\"      Robby Benson     Richard White                    Beauty and the Beast   \n",
       "u\"Peter O'Toole\"     Alec Guinness    Anthony Quinn                      Lawrence of Arabia   \n",
       "u\"Ryan O'Neal\"       Marisa Berenson  Patrick Magee                            Barry Lyndon   \n",
       "\n",
       "                                                         content_rating  \\\n",
       "actor_1             actor_2          actor_3                              \n",
       "Aamir Khan           Gracy Singh      Rachel Shelley                 PG   \n",
       "                     Madhavan         Mona Singh                  PG-13   \n",
       "                     Saif Ali Khan    Akshaye Khanna          NOT RATED   \n",
       "                     Soha Ali Khan    Siddharth               NOT RATED   \n",
       "Aaron Eckhart        Cameron Bright   Maria Bello                     R   \n",
       "...                                                                 ...   \n",
       "u\"Brian O'Halloran\"  Jeff Anderson    Marilyn Ghigliotti              R   \n",
       "                                      Rosario Dawson                  R   \n",
       "u\"Paige O'Hara\"      Robby Benson     Richard White                   G   \n",
       "u\"Peter O'Toole\"     Alec Guinness    Anthony Quinn                  PG   \n",
       "u\"Ryan O'Neal\"       Marisa Berenson  Patrick Magee                  PG   \n",
       "\n",
       "                                                              genre  duration  \\\n",
       "actor_1             actor_2          actor_3                                    \n",
       "Aamir Khan           Gracy Singh      Rachel Shelley      Adventure       224   \n",
       "                     Madhavan         Mona Singh             Comedy       170   \n",
       "                     Saif Ali Khan    Akshaye Khanna         Comedy       183   \n",
       "                     Soha Ali Khan    Siddharth               Drama       157   \n",
       "Aaron Eckhart        Cameron Bright   Maria Bello            Comedy        92   \n",
       "...                                                             ...       ...   \n",
       "u\"Brian O'Halloran\"  Jeff Anderson    Marilyn Ghigliotti     Comedy        92   \n",
       "                                      Rosario Dawson         Comedy        97   \n",
       "u\"Paige O'Hara\"      Robby Benson     Richard White       Animation        84   \n",
       "u\"Peter O'Toole\"     Alec Guinness    Anthony Quinn       Adventure       216   \n",
       "u\"Ryan O'Neal\"       Marisa Berenson  Patrick Magee       Adventure       184   \n",
       "\n",
       "                                                                                                actors_list  \n",
       "actor_1             actor_2          actor_3                                                                 \n",
       "Aamir Khan           Gracy Singh      Rachel Shelley                Aamir Khan, Gracy Singh, Rachel Shelley  \n",
       "                     Madhavan         Mona Singh                           Aamir Khan, Madhavan, Mona Singh  \n",
       "                     Saif Ali Khan    Akshaye Khanna              Aamir Khan, Saif Ali Khan, Akshaye Khanna  \n",
       "                     Soha Ali Khan    Siddharth                        Aamir Khan, Soha Ali Khan, Siddharth  \n",
       "Aaron Eckhart        Cameron Bright   Maria Bello                Aaron Eckhart, Cameron Bright, Maria Bello  \n",
       "...                                                                                                     ...  \n",
       "u\"Brian O'Halloran\"  Jeff Anderson    Marilyn Ghigliotti  u\"Brian O'Halloran\", Jeff Anderson, Marilyn Gh...  \n",
       "                                      Rosario Dawson      u\"Brian O'Halloran\", Jeff Anderson, Rosario Da...  \n",
       "u\"Paige O'Hara\"      Robby Benson     Richard White            u\"Paige O'Hara\", Robby Benson, Richard White  \n",
       "u\"Peter O'Toole\"     Alec Guinness    Anthony Quinn          u\"Peter O'Toole\", Alec Guinness, Anthony Quinn  \n",
       "u\"Ryan O'Neal\"       Marisa Berenson  Patrick Magee          u\"Ryan O'Neal\", Marisa Berenson, Patrick Magee  \n",
       "\n",
       "[969 rows x 6 columns]"
      ]
     },
     "execution_count": 256,
     "metadata": {},
     "output_type": "execute_result"
    }
   ],
   "source": [
    "movies.groupby(['actor_1', 'actor_2', 'actor_3']).max() \n",
    "#It turns out Aamir Khan's movies have highest \"average_stars\" in the IMDB database.\n"
   ]
  }
 ],
 "metadata": {
  "kernelspec": {
   "display_name": "Python 3",
   "language": "python",
   "name": "python3"
  },
  "language_info": {
   "codemirror_mode": {
    "name": "ipython",
    "version": 3
   },
   "file_extension": ".py",
   "mimetype": "text/x-python",
   "name": "python",
   "nbconvert_exporter": "python",
   "pygments_lexer": "ipython3",
   "version": "3.8.5"
  }
 },
 "nbformat": 4,
 "nbformat_minor": 1
}
